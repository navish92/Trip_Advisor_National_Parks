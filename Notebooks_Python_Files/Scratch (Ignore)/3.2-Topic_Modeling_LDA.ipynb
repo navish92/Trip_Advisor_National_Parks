{
 "cells": [
  {
   "cell_type": "code",
   "execution_count": 1,
   "metadata": {
    "tags": []
   },
   "outputs": [],
   "source": [
    "import pandas as pd\n",
    "import numpy as np\n",
    "from sklearn.feature_extraction.text import TfidfVectorizer, ENGLISH_STOP_WORDS, CountVectorizer\n",
    "from sklearn.metrics.pairwise import cosine_similarity\n",
    "import seaborn as sns\n",
    "import matplotlib.pyplot as plt\n",
    "from nltk.tokenize import word_tokenize\n",
    "from sklearn.decomposition import LatentDirichletAllocation\n",
    "import logging\n",
    "import pyLDAvis\n",
    "import pyLDAvis.sklearn\n",
    "import warnings\n",
    "from nlp_cleaning import *\n",
    "from modeling import *\n",
    "pyLDAvis.enable_notebook()\n",
    "\n",
    "pd.set_option(\"display.max_rows\", 50)\n",
    "pd.set_option(\"display.max_columns\", None)\n",
    "pd.set_option('display.max_colwidth', None)\n",
    "\n",
    "logging.basicConfig(format='%(asctime)s : %(levelname)s : %(message)s', level=logging.INFO)\n",
    "warnings.filterwarnings(\"ignore\", category=DeprecationWarning)\n",
    "\n",
    "%load_ext autoreload\n",
    "%autoreload 2"
   ]
  },
  {
   "cell_type": "code",
   "execution_count": 33,
   "metadata": {},
   "outputs": [],
   "source": [
    "df = pd.read_csv(\"Reviews_cleaned_for_NLP.csv\")"
   ]
  },
  {
   "cell_type": "code",
   "execution_count": 3,
   "metadata": {},
   "outputs": [
    {
     "output_type": "execute_result",
     "data": {
      "text/plain": [
       "Index(['attraction_name', 'attraction_id', 'user_name', 'user_profile_link',\n",
       "       'review_date', 'helpful_votes', 'rating', 'review_link', 'review_text',\n",
       "       'review_title', 'experience_date', 'reviews_basic_clean',\n",
       "       'review_lemma', 'review_remove_stop_words',\n",
       "       'review_remove_additional_words'],\n",
       "      dtype='object')"
      ]
     },
     "metadata": {},
     "execution_count": 3
    }
   ],
   "source": [
    "df.columns"
   ]
  },
  {
   "cell_type": "markdown",
   "metadata": {},
   "source": [
    "## Possible Future Cleaning"
   ]
  },
  {
   "cell_type": "markdown",
   "metadata": {},
   "source": [
    "## Vectorizer & Topic Modeling - Round 1\n",
    "\n",
    "The cleaned corpus is used for for creating a bag of words with TF-IDF\n",
    "This will then be used for topic modeling."
   ]
  },
  {
   "cell_type": "code",
   "execution_count": 35,
   "metadata": {},
   "outputs": [],
   "source": [
    "topics_list = []\n",
    "\n",
    "#To keep the column name used for modeling constant, this new column will be assgned to various other columns as more processing occurs. \n",
    "df['review_clean_modeling'] = df['review_remove_stop_words']"
   ]
  },
  {
   "cell_type": "code",
   "execution_count": 36,
   "metadata": {},
   "outputs": [
    {
     "output_type": "stream",
     "name": "stdout",
     "text": [
      "iteration: 1 of max_iter: 100\n",
      "iteration: 2 of max_iter: 100\n",
      "iteration: 3 of max_iter: 100\n",
      "iteration: 4 of max_iter: 100\n",
      "iteration: 5 of max_iter: 100\n",
      "iteration: 6 of max_iter: 100\n",
      "iteration: 7 of max_iter: 100\n",
      "iteration: 8 of max_iter: 100\n",
      "iteration: 9 of max_iter: 100\n",
      "iteration: 10 of max_iter: 100\n",
      "iteration: 11 of max_iter: 100\n",
      "iteration: 12 of max_iter: 100\n",
      "iteration: 13 of max_iter: 100\n",
      "iteration: 14 of max_iter: 100\n",
      "iteration: 15 of max_iter: 100\n",
      "iteration: 16 of max_iter: 100\n",
      "iteration: 17 of max_iter: 100\n",
      "iteration: 18 of max_iter: 100\n",
      "iteration: 19 of max_iter: 100\n",
      "iteration: 20 of max_iter: 100\n",
      "iteration: 21 of max_iter: 100\n",
      "iteration: 22 of max_iter: 100\n",
      "iteration: 23 of max_iter: 100\n",
      "iteration: 24 of max_iter: 100\n",
      "iteration: 25 of max_iter: 100\n",
      "iteration: 26 of max_iter: 100\n",
      "iteration: 27 of max_iter: 100\n",
      "iteration: 28 of max_iter: 100\n",
      "iteration: 29 of max_iter: 100\n",
      "iteration: 30 of max_iter: 100\n",
      "iteration: 31 of max_iter: 100\n",
      "iteration: 32 of max_iter: 100\n",
      "iteration: 33 of max_iter: 100\n",
      "iteration: 34 of max_iter: 100\n",
      "iteration: 35 of max_iter: 100\n",
      "iteration: 36 of max_iter: 100\n",
      "iteration: 37 of max_iter: 100\n",
      "iteration: 38 of max_iter: 100\n",
      "iteration: 39 of max_iter: 100\n",
      "iteration: 40 of max_iter: 100\n",
      "iteration: 41 of max_iter: 100\n",
      "iteration: 42 of max_iter: 100\n",
      "iteration: 43 of max_iter: 100\n",
      "iteration: 44 of max_iter: 100\n",
      "iteration: 45 of max_iter: 100\n",
      "iteration: 46 of max_iter: 100\n",
      "iteration: 47 of max_iter: 100\n",
      "iteration: 48 of max_iter: 100\n",
      "iteration: 49 of max_iter: 100\n",
      "iteration: 50 of max_iter: 100\n",
      "iteration: 51 of max_iter: 100\n",
      "iteration: 52 of max_iter: 100\n",
      "iteration: 53 of max_iter: 100\n",
      "iteration: 54 of max_iter: 100\n",
      "iteration: 55 of max_iter: 100\n",
      "iteration: 56 of max_iter: 100\n",
      "iteration: 57 of max_iter: 100\n",
      "iteration: 58 of max_iter: 100\n",
      "iteration: 59 of max_iter: 100\n",
      "iteration: 60 of max_iter: 100\n",
      "iteration: 61 of max_iter: 100\n",
      "iteration: 62 of max_iter: 100\n",
      "iteration: 63 of max_iter: 100\n",
      "iteration: 64 of max_iter: 100\n",
      "iteration: 65 of max_iter: 100\n",
      "iteration: 66 of max_iter: 100\n",
      "iteration: 67 of max_iter: 100\n",
      "iteration: 68 of max_iter: 100\n",
      "iteration: 69 of max_iter: 100\n",
      "iteration: 70 of max_iter: 100\n",
      "iteration: 71 of max_iter: 100\n",
      "iteration: 72 of max_iter: 100\n",
      "iteration: 73 of max_iter: 100\n",
      "iteration: 74 of max_iter: 100\n",
      "iteration: 75 of max_iter: 100\n",
      "iteration: 76 of max_iter: 100\n",
      "iteration: 77 of max_iter: 100\n",
      "iteration: 78 of max_iter: 100\n",
      "iteration: 79 of max_iter: 100\n",
      "iteration: 80 of max_iter: 100\n",
      "iteration: 81 of max_iter: 100\n",
      "iteration: 82 of max_iter: 100\n",
      "iteration: 83 of max_iter: 100\n",
      "iteration: 84 of max_iter: 100\n",
      "iteration: 85 of max_iter: 100\n",
      "iteration: 86 of max_iter: 100\n",
      "iteration: 87 of max_iter: 100\n",
      "iteration: 88 of max_iter: 100\n",
      "iteration: 89 of max_iter: 100\n",
      "iteration: 90 of max_iter: 100\n",
      "iteration: 91 of max_iter: 100\n",
      "iteration: 92 of max_iter: 100\n",
      "iteration: 93 of max_iter: 100\n",
      "iteration: 94 of max_iter: 100\n",
      "iteration: 95 of max_iter: 100\n",
      "iteration: 96 of max_iter: 100\n",
      "iteration: 97 of max_iter: 100\n",
      "iteration: 98 of max_iter: 100\n",
      "iteration: 99 of max_iter: 100\n",
      "iteration: 100 of max_iter: 100\n",
      "Wall time: 4min 4s\n"
     ]
    }
   ],
   "source": [
    "%%time\n",
    "\n",
    "params = {'stop_words':'english','min_df': 10, 'max_df': 0.5, 'ngram_range':(1, 1),}\n",
    "\n",
    "tfidf = TfidfVectorizer(**params)\n",
    "review_word_matrix_tfidf = tfidf.fit_transform(df['review_clean_modeling'])\n",
    "review_vocab_tfidf = tfidf.get_feature_names()\n",
    "\n",
    "lda_tfidf, score_tfidf, topic_matrix_tfidf, word_matrix_tfidf = lda_topic_modeling(review_word_matrix_tfidf, vocab = review_vocab_tfidf, n = 20)"
   ]
  },
  {
   "cell_type": "code",
   "execution_count": 25,
   "metadata": {},
   "outputs": [
    {
     "output_type": "stream",
     "name": "stdout",
     "text": [
      "iteration: 1 of max_iter: 100\n",
      "iteration: 2 of max_iter: 100\n",
      "iteration: 3 of max_iter: 100\n",
      "iteration: 4 of max_iter: 100\n",
      "iteration: 5 of max_iter: 100\n",
      "iteration: 6 of max_iter: 100\n",
      "iteration: 7 of max_iter: 100\n",
      "iteration: 8 of max_iter: 100\n",
      "iteration: 9 of max_iter: 100\n",
      "iteration: 10 of max_iter: 100\n",
      "iteration: 11 of max_iter: 100\n",
      "iteration: 12 of max_iter: 100\n",
      "iteration: 13 of max_iter: 100\n",
      "iteration: 14 of max_iter: 100\n",
      "iteration: 15 of max_iter: 100\n",
      "iteration: 16 of max_iter: 100\n",
      "iteration: 17 of max_iter: 100\n",
      "iteration: 18 of max_iter: 100\n",
      "iteration: 19 of max_iter: 100\n",
      "iteration: 20 of max_iter: 100\n",
      "iteration: 21 of max_iter: 100\n",
      "iteration: 22 of max_iter: 100\n",
      "iteration: 23 of max_iter: 100\n",
      "iteration: 24 of max_iter: 100\n",
      "iteration: 25 of max_iter: 100\n",
      "iteration: 26 of max_iter: 100\n",
      "iteration: 27 of max_iter: 100\n",
      "iteration: 28 of max_iter: 100\n",
      "iteration: 29 of max_iter: 100\n",
      "iteration: 30 of max_iter: 100\n",
      "iteration: 31 of max_iter: 100\n",
      "iteration: 32 of max_iter: 100\n",
      "iteration: 33 of max_iter: 100\n",
      "iteration: 34 of max_iter: 100\n",
      "iteration: 35 of max_iter: 100\n",
      "iteration: 36 of max_iter: 100\n",
      "iteration: 37 of max_iter: 100\n",
      "iteration: 38 of max_iter: 100\n",
      "iteration: 39 of max_iter: 100\n",
      "iteration: 40 of max_iter: 100\n",
      "iteration: 41 of max_iter: 100\n",
      "iteration: 42 of max_iter: 100\n",
      "iteration: 43 of max_iter: 100\n",
      "iteration: 44 of max_iter: 100\n",
      "iteration: 45 of max_iter: 100\n",
      "iteration: 46 of max_iter: 100\n",
      "iteration: 47 of max_iter: 100\n",
      "iteration: 48 of max_iter: 100\n",
      "iteration: 49 of max_iter: 100\n",
      "iteration: 50 of max_iter: 100\n",
      "iteration: 51 of max_iter: 100\n",
      "iteration: 52 of max_iter: 100\n",
      "iteration: 53 of max_iter: 100\n",
      "iteration: 54 of max_iter: 100\n",
      "iteration: 55 of max_iter: 100\n",
      "iteration: 56 of max_iter: 100\n",
      "iteration: 57 of max_iter: 100\n",
      "iteration: 58 of max_iter: 100\n",
      "iteration: 59 of max_iter: 100\n",
      "iteration: 60 of max_iter: 100\n",
      "iteration: 61 of max_iter: 100\n",
      "iteration: 62 of max_iter: 100\n",
      "iteration: 63 of max_iter: 100\n",
      "iteration: 64 of max_iter: 100\n",
      "iteration: 65 of max_iter: 100\n",
      "iteration: 66 of max_iter: 100\n",
      "iteration: 67 of max_iter: 100\n",
      "iteration: 68 of max_iter: 100\n",
      "iteration: 69 of max_iter: 100\n",
      "iteration: 70 of max_iter: 100\n",
      "iteration: 71 of max_iter: 100\n",
      "iteration: 72 of max_iter: 100\n",
      "iteration: 73 of max_iter: 100\n",
      "iteration: 74 of max_iter: 100\n",
      "iteration: 75 of max_iter: 100\n",
      "iteration: 76 of max_iter: 100\n",
      "iteration: 77 of max_iter: 100\n",
      "iteration: 78 of max_iter: 100\n",
      "iteration: 79 of max_iter: 100\n",
      "iteration: 80 of max_iter: 100\n",
      "iteration: 81 of max_iter: 100\n",
      "iteration: 82 of max_iter: 100\n",
      "iteration: 83 of max_iter: 100\n",
      "iteration: 84 of max_iter: 100\n",
      "iteration: 85 of max_iter: 100\n",
      "iteration: 86 of max_iter: 100\n",
      "iteration: 87 of max_iter: 100\n",
      "iteration: 88 of max_iter: 100\n",
      "iteration: 89 of max_iter: 100\n",
      "iteration: 90 of max_iter: 100\n",
      "iteration: 91 of max_iter: 100\n",
      "iteration: 92 of max_iter: 100\n",
      "iteration: 93 of max_iter: 100\n",
      "iteration: 94 of max_iter: 100\n",
      "iteration: 95 of max_iter: 100\n",
      "iteration: 96 of max_iter: 100\n",
      "iteration: 97 of max_iter: 100\n",
      "iteration: 98 of max_iter: 100\n",
      "iteration: 99 of max_iter: 100\n",
      "iteration: 100 of max_iter: 100\n",
      "Wall time: 4min 32s\n"
     ]
    }
   ],
   "source": [
    "%%time\n",
    "\n",
    "params2 = {'stop_words':'english','min_df': 10, 'max_df': 0.5, 'ngram_range':(1, 2),}\n",
    "\n",
    "tfidf_2 = TfidfVectorizer(**params2)\n",
    "review_word_matrix_tfidf_2 = tfidf_2.fit_transform(df['review_clean_modeling'])\n",
    "review_vocab_tfidf_2 = tfidf_2.get_feature_names()\n",
    "\n",
    "lda_tfidf_2, score_tfidf_2, topic_matrix_tfidf_2, word_matrix_tfidf_2 = lda_topic_modeling(review_word_matrix_tfidf_2, vocab = review_vocab_tfidf_2, n = 20)"
   ]
  },
  {
   "cell_type": "code",
   "execution_count": 7,
   "metadata": {},
   "outputs": [
    {
     "output_type": "stream",
     "name": "stdout",
     "text": [
      "iteration: 1 of max_iter: 100\n",
      "iteration: 2 of max_iter: 100\n",
      "iteration: 3 of max_iter: 100\n",
      "iteration: 4 of max_iter: 100\n",
      "iteration: 5 of max_iter: 100\n",
      "iteration: 6 of max_iter: 100\n",
      "iteration: 7 of max_iter: 100\n",
      "iteration: 8 of max_iter: 100\n",
      "iteration: 9 of max_iter: 100\n",
      "iteration: 10 of max_iter: 100\n",
      "iteration: 11 of max_iter: 100\n",
      "iteration: 12 of max_iter: 100\n",
      "iteration: 13 of max_iter: 100\n",
      "iteration: 14 of max_iter: 100\n",
      "iteration: 15 of max_iter: 100\n",
      "iteration: 16 of max_iter: 100\n",
      "iteration: 17 of max_iter: 100\n",
      "iteration: 18 of max_iter: 100\n",
      "iteration: 19 of max_iter: 100\n",
      "iteration: 20 of max_iter: 100\n",
      "iteration: 21 of max_iter: 100\n",
      "iteration: 22 of max_iter: 100\n",
      "iteration: 23 of max_iter: 100\n",
      "iteration: 24 of max_iter: 100\n",
      "iteration: 25 of max_iter: 100\n",
      "iteration: 26 of max_iter: 100\n",
      "iteration: 27 of max_iter: 100\n",
      "iteration: 28 of max_iter: 100\n",
      "iteration: 29 of max_iter: 100\n",
      "iteration: 30 of max_iter: 100\n",
      "iteration: 31 of max_iter: 100\n",
      "iteration: 32 of max_iter: 100\n",
      "iteration: 33 of max_iter: 100\n",
      "iteration: 34 of max_iter: 100\n",
      "iteration: 35 of max_iter: 100\n",
      "iteration: 36 of max_iter: 100\n",
      "iteration: 37 of max_iter: 100\n",
      "iteration: 38 of max_iter: 100\n",
      "iteration: 39 of max_iter: 100\n",
      "iteration: 40 of max_iter: 100\n",
      "iteration: 41 of max_iter: 100\n",
      "iteration: 42 of max_iter: 100\n",
      "iteration: 43 of max_iter: 100\n",
      "iteration: 44 of max_iter: 100\n",
      "iteration: 45 of max_iter: 100\n",
      "iteration: 46 of max_iter: 100\n",
      "iteration: 47 of max_iter: 100\n",
      "iteration: 48 of max_iter: 100\n",
      "iteration: 49 of max_iter: 100\n",
      "iteration: 50 of max_iter: 100\n",
      "iteration: 51 of max_iter: 100\n",
      "iteration: 52 of max_iter: 100\n",
      "iteration: 53 of max_iter: 100\n",
      "iteration: 54 of max_iter: 100\n",
      "iteration: 55 of max_iter: 100\n",
      "iteration: 56 of max_iter: 100\n",
      "iteration: 57 of max_iter: 100\n",
      "iteration: 58 of max_iter: 100\n",
      "iteration: 59 of max_iter: 100\n",
      "iteration: 60 of max_iter: 100\n",
      "iteration: 61 of max_iter: 100\n",
      "iteration: 62 of max_iter: 100\n",
      "iteration: 63 of max_iter: 100\n",
      "iteration: 64 of max_iter: 100\n",
      "iteration: 65 of max_iter: 100\n",
      "iteration: 66 of max_iter: 100\n",
      "iteration: 67 of max_iter: 100\n",
      "iteration: 68 of max_iter: 100\n",
      "iteration: 69 of max_iter: 100\n",
      "iteration: 70 of max_iter: 100\n",
      "iteration: 71 of max_iter: 100\n",
      "iteration: 72 of max_iter: 100\n",
      "iteration: 73 of max_iter: 100\n",
      "iteration: 74 of max_iter: 100\n",
      "iteration: 75 of max_iter: 100\n",
      "iteration: 76 of max_iter: 100\n",
      "iteration: 77 of max_iter: 100\n",
      "iteration: 78 of max_iter: 100\n",
      "iteration: 79 of max_iter: 100\n",
      "iteration: 80 of max_iter: 100\n",
      "iteration: 81 of max_iter: 100\n",
      "iteration: 82 of max_iter: 100\n",
      "iteration: 83 of max_iter: 100\n",
      "iteration: 84 of max_iter: 100\n",
      "iteration: 85 of max_iter: 100\n",
      "iteration: 86 of max_iter: 100\n",
      "iteration: 87 of max_iter: 100\n",
      "iteration: 88 of max_iter: 100\n",
      "iteration: 89 of max_iter: 100\n",
      "iteration: 90 of max_iter: 100\n",
      "iteration: 91 of max_iter: 100\n",
      "iteration: 92 of max_iter: 100\n",
      "iteration: 93 of max_iter: 100\n",
      "iteration: 94 of max_iter: 100\n",
      "iteration: 95 of max_iter: 100\n",
      "iteration: 96 of max_iter: 100\n",
      "iteration: 97 of max_iter: 100\n",
      "iteration: 98 of max_iter: 100\n",
      "iteration: 99 of max_iter: 100\n",
      "iteration: 100 of max_iter: 100\n",
      "Wall time: 8min 35s\n"
     ]
    }
   ],
   "source": [
    "%%time\n",
    "\n",
    "params = {'stop_words':'english','min_df': 10, 'max_df': 0.5, 'ngram_range':(1, 1),}\n",
    "\n",
    "tf = CountVectorizer(**params)\n",
    "review_word_matrix_tf = tf.fit_transform(df['review_clean_modeling'])\n",
    "review_vocab_tf = tf.get_feature_names()\n",
    "\n",
    "lda_tf, score_tf, topic_matrix_tf, word_matrix_tf = lda_topic_modeling(review_word_matrix_tf, vocab = review_vocab_tf, n = 20)"
   ]
  },
  {
   "cell_type": "code",
   "execution_count": 8,
   "metadata": {},
   "outputs": [
    {
     "output_type": "stream",
     "name": "stdout",
     "text": [
      "iteration: 1 of max_iter: 100\n",
      "iteration: 2 of max_iter: 100\n",
      "iteration: 3 of max_iter: 100\n",
      "iteration: 4 of max_iter: 100\n",
      "iteration: 5 of max_iter: 100\n",
      "iteration: 6 of max_iter: 100\n",
      "iteration: 7 of max_iter: 100\n",
      "iteration: 8 of max_iter: 100\n",
      "iteration: 9 of max_iter: 100\n",
      "iteration: 10 of max_iter: 100\n",
      "iteration: 11 of max_iter: 100\n",
      "iteration: 12 of max_iter: 100\n",
      "iteration: 13 of max_iter: 100\n",
      "iteration: 14 of max_iter: 100\n",
      "iteration: 15 of max_iter: 100\n",
      "iteration: 16 of max_iter: 100\n",
      "iteration: 17 of max_iter: 100\n",
      "iteration: 18 of max_iter: 100\n",
      "iteration: 19 of max_iter: 100\n",
      "iteration: 20 of max_iter: 100\n",
      "iteration: 21 of max_iter: 100\n",
      "iteration: 22 of max_iter: 100\n",
      "iteration: 23 of max_iter: 100\n",
      "iteration: 24 of max_iter: 100\n",
      "iteration: 25 of max_iter: 100\n",
      "iteration: 26 of max_iter: 100\n",
      "iteration: 27 of max_iter: 100\n",
      "iteration: 28 of max_iter: 100\n",
      "iteration: 29 of max_iter: 100\n",
      "iteration: 30 of max_iter: 100\n",
      "iteration: 31 of max_iter: 100\n",
      "iteration: 32 of max_iter: 100\n",
      "iteration: 33 of max_iter: 100\n",
      "iteration: 34 of max_iter: 100\n",
      "iteration: 35 of max_iter: 100\n",
      "iteration: 36 of max_iter: 100\n",
      "iteration: 37 of max_iter: 100\n",
      "iteration: 38 of max_iter: 100\n",
      "iteration: 39 of max_iter: 100\n",
      "iteration: 40 of max_iter: 100\n",
      "iteration: 41 of max_iter: 100\n",
      "iteration: 42 of max_iter: 100\n",
      "iteration: 43 of max_iter: 100\n",
      "iteration: 44 of max_iter: 100\n",
      "iteration: 45 of max_iter: 100\n",
      "iteration: 46 of max_iter: 100\n",
      "iteration: 47 of max_iter: 100\n",
      "iteration: 48 of max_iter: 100\n",
      "iteration: 49 of max_iter: 100\n",
      "iteration: 50 of max_iter: 100\n",
      "iteration: 51 of max_iter: 100\n",
      "iteration: 52 of max_iter: 100\n",
      "iteration: 53 of max_iter: 100\n",
      "iteration: 54 of max_iter: 100\n",
      "iteration: 55 of max_iter: 100\n",
      "iteration: 56 of max_iter: 100\n",
      "iteration: 57 of max_iter: 100\n",
      "iteration: 58 of max_iter: 100\n",
      "iteration: 59 of max_iter: 100\n",
      "iteration: 60 of max_iter: 100\n",
      "iteration: 61 of max_iter: 100\n",
      "iteration: 62 of max_iter: 100\n",
      "iteration: 63 of max_iter: 100\n",
      "iteration: 64 of max_iter: 100\n",
      "iteration: 65 of max_iter: 100\n",
      "iteration: 66 of max_iter: 100\n",
      "iteration: 67 of max_iter: 100\n",
      "iteration: 68 of max_iter: 100\n",
      "iteration: 69 of max_iter: 100\n",
      "iteration: 70 of max_iter: 100\n",
      "iteration: 71 of max_iter: 100\n",
      "iteration: 72 of max_iter: 100\n",
      "iteration: 73 of max_iter: 100\n",
      "iteration: 74 of max_iter: 100\n",
      "iteration: 75 of max_iter: 100\n",
      "iteration: 76 of max_iter: 100\n",
      "iteration: 77 of max_iter: 100\n",
      "iteration: 78 of max_iter: 100\n",
      "iteration: 79 of max_iter: 100\n",
      "iteration: 80 of max_iter: 100\n",
      "iteration: 81 of max_iter: 100\n",
      "iteration: 82 of max_iter: 100\n",
      "iteration: 83 of max_iter: 100\n",
      "iteration: 84 of max_iter: 100\n",
      "iteration: 85 of max_iter: 100\n",
      "iteration: 86 of max_iter: 100\n",
      "iteration: 87 of max_iter: 100\n",
      "iteration: 88 of max_iter: 100\n",
      "iteration: 89 of max_iter: 100\n",
      "iteration: 90 of max_iter: 100\n",
      "iteration: 91 of max_iter: 100\n",
      "iteration: 92 of max_iter: 100\n",
      "iteration: 93 of max_iter: 100\n",
      "iteration: 94 of max_iter: 100\n",
      "iteration: 95 of max_iter: 100\n",
      "iteration: 96 of max_iter: 100\n",
      "iteration: 97 of max_iter: 100\n",
      "iteration: 98 of max_iter: 100\n",
      "iteration: 99 of max_iter: 100\n",
      "iteration: 100 of max_iter: 100\n",
      "Wall time: 7min 32s\n"
     ]
    }
   ],
   "source": [
    "%%time\n",
    "\n",
    "params2 = {'stop_words':'english','min_df': 10, 'max_df': 0.5, 'ngram_range':(1, 2),}\n",
    "\n",
    "tf_2 = CountVectorizer(**params2)\n",
    "review_word_matrix_tf_2 = tf_2.fit_transform(df['review_clean_modeling'])\n",
    "review_vocab_tf_2 = tf_2.get_feature_names()\n",
    "\n",
    "lda_tf_2, score_tf_2, topic_matrix_tf_2, word_matrix_tf_2 = lda_topic_modeling(review_word_matrix_tf_2, vocab = review_vocab_tf_2, n = 20)"
   ]
  },
  {
   "cell_type": "code",
   "execution_count": 26,
   "metadata": {},
   "outputs": [],
   "source": [
    "topic_matrix_tf[['raw_review','review_cleanned']] = df[['review_text','review_clean_modeling']]\n",
    "topic_matrix_tf_2[['raw_review','review_cleanned']] = df[['review_text','review_clean_modeling']]\n",
    "topic_matrix_tfidf_2[['raw_review','review_cleanned']] = df[['review_text','review_clean_modeling']]\n",
    "topic_matrix_tfidf[['raw_review','review_cleanned']] = df[['review_text','review_clean_modeling']]"
   ]
  },
  {
   "cell_type": "code",
   "execution_count": 11,
   "metadata": {},
   "outputs": [],
   "source": [
    "import pickle\n",
    "\n",
    "with open (\"lda_tfidf.pickle\", \"wb\") as model:\n",
    "    pickle.dump(lda_tfidf, model)\n",
    "\n",
    "with open (\"lda_tfidf_2.pickle\", \"wb\") as model:\n",
    "    pickle.dump(lda_tfidf_2, model)\n",
    "\n",
    "with open (\"lda_tf.pickle\", \"wb\") as model:\n",
    "    pickle.dump(lda_tf, model)\n",
    "\n",
    "with open (\"lda_tf_2.pickle\", \"wb\") as model:\n",
    "    pickle.dump(lda_tf_2, model)"
   ]
  },
  {
   "cell_type": "code",
   "execution_count": null,
   "metadata": {},
   "outputs": [],
   "source": [
    "\n",
    "pyLDAvis.sklearn.prepare(lda_tfidf, review_word_matrix_tfidf, tfidf, mds = 'tsne')"
   ]
  },
  {
   "cell_type": "markdown",
   "metadata": {},
   "source": [
    "Let's start exploring the topics that were generated using LDA for upto 25 topics"
   ]
  },
  {
   "cell_type": "code",
   "execution_count": 28,
   "metadata": {},
   "outputs": [],
   "source": [
    "topics_list = []"
   ]
  },
  {
   "cell_type": "markdown",
   "metadata": {},
   "source": [
    "#### Topic 0 - Amazing Views\n",
    "In particular, hiking at"
   ]
  },
  {
   "cell_type": "code",
   "execution_count": 37,
   "metadata": {},
   "outputs": [
    {
     "output_type": "stream",
     "name": "stdout",
     "text": [
      "adams              8.978884\nansel              8.674477\nansel adams        8.329235\nview fantastic     3.800595\nplace beautiful    3.462722\nmake worthwhile    3.391562\nlabor              3.096900\ncapitan left       3.006288\nlabor day          2.987246\ndrive slow         2.814177\nName: topic_0, dtype: float64\n['Once you emerge from the Tunnel, there is a parking area for all to pile out and take in the amazing views of Yosemite. You don’t want to miss it! You can get Ansel Adams quality shots.'\n \"It's a hassle to get to and it's even more annoying once you're there with every tourist thinking he's Ansel Adams hogging the good photo spots...despite the annoyance, you cannot miss the best view in the park...simply breathtaking!\"\n 'Clean air, pristine landscape in summer and early fall.'\n \"What a stunning view. It really is that good. Awe inspiring and humbling being confronted with that much awesome! It's almost too much for ones' eyeballs!\"\n 'Immense, awe inspiring, staggering, how many superlatives can I drag up? This is just something that you need to see.']\n"
     ]
    }
   ],
   "source": [
    "topic = 0\n",
    "n_reviews = 5\n",
    "n_words = 10\n",
    "\n",
    "print(top_words(word_matrix_tfidf_2, topic, n_words))\n",
    "print(top_reviews(topic_matrix_tfidf_2, topic, n_reviews))\n",
    "topics_list.append('Amazing Views')"
   ]
  },
  {
   "cell_type": "markdown",
   "metadata": {},
   "source": [
    "#### Topic 1 - 'Glacier Point'\n",
    "In particular, the views at Glacier Point"
   ]
  },
  {
   "cell_type": "code",
   "execution_count": 38,
   "metadata": {},
   "outputs": [
    {
     "output_type": "stream",
     "name": "stdout",
     "text": [
      "lower                       5.532638\nbeautiful picture           4.960246\nbreathtakingly              4.413730\npicture justice             4.382677\nrainbow fall                4.068597\nmake fall                   3.998642\nblow                        3.842549\nbreathtakingly beautiful    3.822459\nlower fall                  3.689144\nvalley look                 3.620313\nName: topic_1, dtype: float64\n['To understand what you will see there check my pictures http://allcontravel.blogspot.com/2012/06/half-dome-yosemite-park-ca.html'\n \"Such a beautiful mountain! It's mass almost can't be described by words. It is a beautiful thing to see!! \"\n 'Beautiful to see Pictures don’t do it justice In awe of the size and scale of it . Hats off to the climbers'\n 'A somewhat knee shaking experience that you must see. Incredible view of valley waterfalls and Half Dome '\n 'From far away the half dome can already be seen. From closer by, seen fro the valley, it is really impressive.']\n"
     ]
    }
   ],
   "source": [
    "topic = 1\n",
    "n_reviews = 5\n",
    "n_words = 10\n",
    "\n",
    "print(top_words(word_matrix_tfidf_2, topic, n_words))\n",
    "print(top_reviews(topic_matrix_tfidf_2, topic, n_reviews))\n",
    "# topics_list.append('Glacier Point')"
   ]
  },
  {
   "cell_type": "markdown",
   "metadata": {},
   "source": [
    "#### Topic 2 - 'Yosemite Falls'\n",
    "In particular, Upper and Lower Yosemite Falls"
   ]
  },
  {
   "cell_type": "code",
   "execution_count": 39,
   "metadata": {},
   "outputs": [
    {
     "output_type": "stream",
     "name": "stdout",
     "text": [
      "yosemite miss       6.897433\nsunrise sunset      4.968883\ncapitan valley      3.769183\nstay day            3.568557\nhike spectacular    3.549470\nplace stay          3.346694\nview especially     3.015461\nyoung old           2.797496\npleasantly          2.526695\ntrail path          2.383792\nName: topic_2, dtype: float64\n['We viewed half done from glazier point and boy was it spectacular! We could have stayed all day just drinking in the view!'\n \"We followed t he Mist Trail to Vernal Falls. It was October so there wasn't a great deal of water but it was enough to thoroughly enjoy the experience!\"\n 'The view from the point is fabulous, but there are too many people to really enjoy it.  Is great at sunrise or sunset and less people.  Spectacular views especially of Half Dome.'\n 'After coming out of the tunnel, we stopped here to see the beautiful valley and the surrounding mountains. Recommended!'\n 'A lot to explore at the valley like trails, enjoy the views at the meadows, sunset, etc Also you can find stores, restaurants, restrooms, places to stay, bike rentals, bus, etc.']\n"
     ]
    }
   ],
   "source": [
    "topic = 2\n",
    "n_reviews = 5\n",
    "n_words = 10\n",
    "\n",
    "print(top_words(word_matrix_tfidf_2, topic, n_words))\n",
    "print(top_reviews(topic_matrix_tfidf_2, topic, n_reviews))\n",
    "topics_list.append('Yosemite Falls')"
   ]
  },
  {
   "cell_type": "markdown",
   "metadata": {},
   "source": [
    "**Topic 3 - Tioga Pass**  \n",
    "In particular, driving Through Tioga Pass "
   ]
  },
  {
   "cell_type": "code",
   "execution_count": 40,
   "metadata": {},
   "outputs": [
    {
     "output_type": "stream",
     "name": "stdout",
     "text": [
      "chair            5.946935\nplace picture    5.882710\nlook forward     5.674061\nforward          5.470924\nshop snack       4.324968\nwheel chair      4.242940\nlot great        3.968965\nmarvelous        3.941094\nhazy             3.842744\ngood camera      3.818459\nName: topic_3, dtype: float64\n['This place actually makes you feel as if you are in a wonderland!! You will see unbelievably huge Sequoias and some of them are as old as 1800 years!! I guarantee that you will be lost for words to express your feelings!! '\n 'Spectacular views from everywhere. There is a small shop/snack bar at the top which has various options available.'\n 'It doesn’t take too long to drive up to this iconic spot and you must do it. There’s ample parking and the views are just stunning.'\n 'Definately must do!Amazing, marvelous view, just to escape from the city jungle and enjoy with all your sences!!'\n 'The views are awesome...many photo ops available. There is a gift shop and snack shop available at Glacier Point....Must See!']\n"
     ]
    }
   ],
   "source": [
    "topic = 3\n",
    "n_reviews = 5\n",
    "n_words = 10\n",
    "\n",
    "print(top_words(word_matrix_tfidf_2, topic, n_words))\n",
    "print(top_reviews(topic_matrix_tfidf_2, topic, n_reviews))\n",
    "topics_list.append('Tioga Pass')"
   ]
  },
  {
   "cell_type": "markdown",
   "metadata": {},
   "source": [
    "**Topic 4 - Hiking**  "
   ]
  },
  {
   "cell_type": "code",
   "execution_count": 42,
   "metadata": {},
   "outputs": [
    {
     "output_type": "stream",
     "name": "stdout",
     "text": [
      "bucket list         11.330308\nbucket              11.185014\nlist                 9.568116\nhike crowd           3.228005\nsequoia mariposa     3.178893\njust perfect         3.157951\nunbelievable         3.149604\nmorning crowd        3.116572\ndefinite             2.759127\nwoodpecker           2.542328\nName: topic_4, dtype: float64\n['put this on your bucket list, you will not be disappointed.'\n 'Put this on your bucket list.  Amazing views abound.  Well worth the drive..  Creation on glorious display.'\n 'Worth seeing. Great hiking from here. Got a ride from friends then hiked down to the mist trail alongside the waterfalls. Simply breathtaking!'\n 'Views were incredible here.  Concessions were not open before 11am, which we were not anticipating.  Plan your food better than we did!'\n 'This area is a must on your bucket list. The views will take your breath away. You cannot see the Dome and not be moved.'\n 'Beautiful area with some of the most fantastic views and scenery that I have ever witnessed!!  If you have never been it is a definite must on your bucket list!!!'\n 'Unbelievable view as soon as you enter the park. Stop in the car park briefly, get some photos and hype yourselves up for exploring. Utterly stunning valley. '\n \"It's a long drive from SF but well worth it. Took many photos of the valley and half dome. Drive up was windy but not too difficult \"\n 'Breathtaking. Magnificent. A must see on the bucket list of anyone. Yosemite is not something you can experience in photos.  '\n 'Half Dome is impressive and imposing, how they climb up this massive wall? that is not on bucket-list, no thnak you ...']\n"
     ]
    }
   ],
   "source": [
    "topic = 4\n",
    "n_reviews = 10\n",
    "n_words = 10\n",
    "\n",
    "print(top_words(word_matrix_tfidf_2, topic, n_words))\n",
    "print(top_reviews(topic_matrix_tfidf_2, topic, n_reviews))\n",
    "topics_list.append('Hiking')"
   ]
  },
  {
   "cell_type": "markdown",
   "metadata": {},
   "source": [
    "**Topic 5 - El Capitan**  \n",
    "In particular, beauty of El Capitan"
   ]
  },
  {
   "cell_type": "code",
   "execution_count": 90,
   "metadata": {},
   "outputs": [
    {
     "name": "stdout",
     "output_type": "stream",
     "text": [
      "el           4.528230\n",
      "capitan      4.268026\n",
      "climber      1.338473\n",
      "binocular    0.415990\n",
      "spot         0.403950\n",
      "tunnel       0.400033\n",
      "cap          0.394506\n",
      "picture      0.362747\n",
      "face         0.358512\n",
      "meadow       0.304601\n",
      "Name: topic_5, dtype: float64\n",
      "['Seeing El Capitan was breathtaking. I had always seen pictures of El Capitan but seeing it is person was thrilling. It is so massive that it is really hard to process. We were there two days and I was truly captivated by El Capitan.'\n",
      " 'Meadows around El Capitan make for a relaxing view of the majestic El Capitan. One of the beauties of Yosemite.'\n",
      " 'One of our last stops in the valley, we took the El Capitan shuttle out to the El Capitan Picnic area and walked out to the next stop at the El Capitan crossover.  Relatively flat walk, no real trail, we just walked along side the road (moderate traffic) till we got to the Valley Loop Trail, which took us past Cathedral Beach and to the crossover.  Crossover was the best place to view El Capitan, fewer trees.  At the crossover (near the shuttle stop), there were members of a climbing club with telescopes, which allowed us to see climbers on El Capitan.  They were very knowledgeable and happily answered many questions.'\n",
      " \"El Capitan is a granite monolith that juts upward 3,000 feet above the Yosemite Valley floor. It is a beautiful land formation with a surface smooth, the result of glacier activity nearly 1.3 million years ago. You won't be able to help but see El Capitan throughout your time in the Valley. It is first encountered as you drive through the Yosemite Tunnel and stop at the tunnel viewpoint. El Capitan dominates the landscape to the left, just opposite the Bridalveil Falls to the right of your view at this location. While driving in the valley, you can pull over from Northside Drive at the El Capitan Meadow and with binoculars, you can spot rock climbers scaling El Capitan. Simply look in the crevices and you'll seem them, tiny specks of colour upon the rock face. The sun shines nicely against El Capitan from late morning onward, allowing nice photographs to be taken during much of the day. When skies are clear and blue, it is a wonderful land formation to see as part of your Yosemite National Park experience.\"\n",
      " \"There is a beach at the base of El Capitan, called Devil's Elbow. It's the perfect place to get an up close view of the grandeur and size of El Capitan. Bring binoculars as you may have the pleasure of seeing climbers on the face.\"]\n"
     ]
    }
   ],
   "source": [
    "topic = 5\n",
    "n_reviews = 5\n",
    "n_words = 10\n",
    "\n",
    "print(top_words(word_matrix, topic, n_words))\n",
    "print(top_reviews(topic_matrix, topic, n_reviews))\n",
    "topics_list.append('El Capitan')"
   ]
  },
  {
   "cell_type": "markdown",
   "metadata": {},
   "source": [
    "**Topic 6 - Walking To Lower Fall**  \n",
    "In particular, "
   ]
  },
  {
   "cell_type": "code",
   "execution_count": 93,
   "metadata": {},
   "outputs": [
    {
     "name": "stdout",
     "output_type": "stream",
     "text": [
      "walk      5.419918\n",
      "short     0.793609\n",
      "minute    0.225155\n",
      "path      0.224473\n",
      "hard      0.213550\n",
      "base      0.187959\n",
      "lodge     0.170765\n",
      "lovely    0.167322\n",
      "mile      0.157958\n",
      "uphill    0.143188\n",
      "Name: topic_6, dtype: float64\n",
      "['Once again; in summer: GET THERE EARLY! That means that if you want an experience that you would describe as \"nice\" you will have to be walking at about 07:30. If you get up to Vernall Falls and walk back along the John Muit trail be carefull not to miss the this trail. When you are on top of the Vernall falls you walk further up but when you come across a bridge you have gone to far. We forgot to take a map so walked up further. Eventually we ended up walking all the way to the top of Nevada falls! Ended up walking for 6,5 hours, almost 14km, 600m up and 600m downhill.'\n",
      " 'It is a great short and easy walk to see the lower fall.  Lots of people, but the walk is beautiful and serence.'\n",
      " 'We did do this walk, the start is easy to do. Because of that we did walk in a caravan of people. The second loop is more hard to walk and that is where it gets interesting and beautiful. '\n",
      " 'We walked to the lower falls from the Lodge.  What a sight!  Getting close is well worth the walk.  '\n",
      " 'This walk is hard work but rewards you constantly, make a point of doing this walk!!!']\n"
     ]
    }
   ],
   "source": [
    "topic = 6\n",
    "n_reviews = 5\n",
    "n_words = 10\n",
    "\n",
    "print(top_words(word_matrix, topic, n_words))\n",
    "print(top_reviews(topic_matrix, topic, n_reviews))\n",
    "topics_list.append('Walking To Lower Fall')"
   ]
  },
  {
   "cell_type": "markdown",
   "metadata": {},
   "source": [
    "**Topic 7 - Amazing View**  \n",
    "In particular, at the top of the falls & getting there"
   ]
  },
  {
   "cell_type": "code",
   "execution_count": 98,
   "metadata": {},
   "outputs": [
    {
     "name": "stdout",
     "output_type": "stream",
     "text": [
      "worth         4.509240\n",
      "effort        0.855170\n",
      "definitely    0.733977\n",
      "bit           0.669340\n",
      "trip          0.567620\n",
      "totally       0.362342\n",
      "little        0.223373\n",
      "absolutely    0.186453\n",
      "tough         0.134280\n",
      "trek          0.124622\n",
      "Name: topic_7, dtype: float64\n",
      "[\"Worth the hike up to see the falls - it is a bit of a climb but if you take it slow it is worth the trip. Very popular area so can be crowded but that shouldn't stop you\"\n",
      " 'Worth the trip up there, views are amazing! Drive up there a little scary, but worth the trip. Can see the valley below, great view.'\n",
      " \"The Falls is beautiful and definitely worth the easy hike.  It does get crowded as it's not a huge area to view it but definitely worth it.  It's awesome!\"\n",
      " 'Best view of the entire valley and worth the drive to the top. We had two teens and one preteen all boys and they thought it was worth it.'\n",
      " \"Don't give up even when the trail seems never-ending. The view at the top of the falls is SOOOOOOOOOO worth it. \"]\n"
     ]
    }
   ],
   "source": [
    "topic = 7\n",
    "n_reviews = 5\n",
    "n_words = 10\n",
    "\n",
    "print(top_words(word_matrix, topic, n_words))\n",
    "print(top_reviews(topic_matrix, topic, n_reviews))\n",
    "topics_list.append('Amazing Views')"
   ]
  },
  {
   "cell_type": "markdown",
   "metadata": {},
   "source": [
    "**Topic 8 - Seasons for Falls**  \n",
    "In particular, "
   ]
  },
  {
   "cell_type": "code",
   "execution_count": 100,
   "metadata": {},
   "outputs": [
    {
     "name": "stdout",
     "output_type": "stream",
     "text": [
      "fall      6.459617\n",
      "base      0.464369\n",
      "dry       0.316726\n",
      "spring    0.291243\n",
      "spray     0.233936\n",
      "summer    0.218177\n",
      "bridge    0.177436\n",
      "near      0.172987\n",
      "run       0.164288\n",
      "right     0.154591\n",
      "Name: topic_8, dtype: float64\n",
      "[\"Here is the most important thing to know about all the falls in Yosemite Park.  I have seen a number of people complaining in reviews that they were here in summer, fall, winter, whatever, and the falls were anemic. In California, it does not rain from late spring through mid-fall, and there is no water. The spectacular falls rely on spring snow melt, and so are at their best in early to mid spring.  Even in winter, when it begins to rain, rainfall alone is not enough to really get the falls going, it is when the snowpack melts that they thunder and roar.  So if it is your goal to see the falls at their best, it is essential you plan a spring trip.Yosemite Falls is one spectacular fall.  Well, actually, it is a 3fer! While it is not wide, it is reportedly the tallest waterfall in the U.S.  The upper fall plunges straight down from where Yosemite Creek pours over the edge on its way to join the Merced River.  It is the tallest and most dramatic section of the falls, foaming and frothing on its way down.  The falls then tumble through a series of cascades that are hard to see from most vantage points, before lunching themselves into the final, narrow dive of the lower falls.  At the bottom of the lower falls is an excellent area to view the lower falls fairly up close; further back along the trail leading to the bottom are great views of both upper and lower falls.  Expect to get a little damp from the spray at the bottom of the falls, especially if it's a breezy day. If the falls are in full roar, you will be able to feel the thunder in your chest.\"\n",
      " 'It is best to see these falls from Glacier Point.  They can be viewed from Yosemite Valley but I could only see on fall.'\n",
      " \"Often by August the falls are dry so see the falls earlier in the tear if possible>  If you're in the valley it's hard not to see the falls\"\n",
      " \"Again, you can see Yosemite Falls all over the Valley. Your eye is drawn to them all the time - I'd compare the falls with Trummelbach Falls in the Wengen/Lauterbrunnen valley in Switzerland.\"\n",
      " 'This is also a must do trail to get closer to the falls and see more of the Valley. The view of the falls is worth the trip.']\n"
     ]
    }
   ],
   "source": [
    "topic = 8\n",
    "n_reviews = 5\n",
    "n_words = 10\n",
    "\n",
    "print(top_words(word_matrix, topic, n_words))\n",
    "print(top_reviews(topic_matrix, topic, n_reviews))\n",
    "topics_list.append('Falls Viewing Season')"
   ]
  },
  {
   "cell_type": "markdown",
   "metadata": {},
   "source": [
    "**Topic 9 - Rock Climbing**  \n",
    "In particular, "
   ]
  },
  {
   "cell_type": "code",
   "execution_count": 102,
   "metadata": {},
   "outputs": [
    {
     "name": "stdout",
     "output_type": "stream",
     "text": [
      "rock          3.855680\n",
      "climber       1.668572\n",
      "face          1.046238\n",
      "watch         0.829892\n",
      "formation     0.472010\n",
      "impressive    0.408355\n",
      "binocular     0.359285\n",
      "scale         0.353838\n",
      "granite       0.350937\n",
      "huge          0.304945\n",
      "Name: topic_9, dtype: float64\n",
      "['a MUST for a rock climber... but even if you are NOT - go check out the climbers , this is NUTS! one of the iconic rocks in the valley - how could you miss it if you are here anyway? '\n",
      " 'We only experienced the great might of this 900m high rock face from the bottom, and it was impressive enough, let alone from its top. Ideal for rock climbers and base jumpers, but it is extremely tough to get to the top.'\n",
      " 'As part of my day tour from SFO,  the tour operator stopped here. The rock formation is gigantic. I believe a lot of rock climbers come and camp here. I walked close to the rock and came back. Saw a herd of deer grazing there. I am not sure how one could climb this. the tour operator told us that the first climb took some 45 days. (not sure how one would eat, sleep and pee while climbing for 45 days). the record is 2.5 hours it seems. I am not sure if there are trails to go to the top of the rock. Must be fascinating for rock climbers.'\n",
      " 'Standing under the El Capitan watching the rock climbers takes your breath away at the sheer scale of this rock. '\n",
      " 'This cliff face is a mecca for expert rock limbers. Not for me but it is a spectacular rock face and awe inspiring sight']\n"
     ]
    }
   ],
   "source": [
    "topic = 9\n",
    "n_reviews = 5\n",
    "n_words = 10\n",
    "\n",
    "print(top_words(word_matrix, topic, n_words))\n",
    "print(top_reviews(topic_matrix, topic, n_reviews))\n",
    "topics_list.append('Rock Climbing')"
   ]
  },
  {
   "cell_type": "markdown",
   "metadata": {},
   "source": [
    "**Topic 10 - Great Views for Falls**  \n",
    "In particular, "
   ]
  },
  {
   "cell_type": "code",
   "execution_count": 105,
   "metadata": {},
   "outputs": [
    {
     "name": "stdout",
     "output_type": "stream",
     "text": [
      "great          4.295647\n",
      "photo          0.478787\n",
      "opportunity    0.295339\n",
      "fun            0.180673\n",
      "hiking         0.131721\n",
      "experience     0.131627\n",
      "crowded        0.099593\n",
      "view           0.099456\n",
      "spot           0.094888\n",
      "picture        0.085015\n",
      "Name: topic_10, dtype: float64\n",
      "['so many great views from one of the most beautiful place in the park, you can take a great tour bus up to the point for a great day of exploring or a great day hike. small store  and great views.'\n",
      " 'It is a great hike to get to the top, steep in places. Great view at the top! Yosemite is just beautiful and it felt great to be at the top!'\n",
      " 'Great for hiking - great views of the falls - there are 2 trails - lower and upper - upper one is much longer and stepper - great views as you hike up as well as down.'\n",
      " 'It was great to see this fall, the view was great, it amazing how the water fall comes all the way from the top of mountain.'\n",
      " 'Last time here we did the Panama trail which was great but this time we just looked at the viewpoints and this was great.']\n"
     ]
    }
   ],
   "source": [
    "topic = 10\n",
    "n_reviews = 5\n",
    "n_words = 10\n",
    "\n",
    "print(top_words(word_matrix, topic, n_words))\n",
    "print(top_reviews(topic_matrix, topic, n_reviews))\n",
    "topics_list.append('Great Views for Falls')"
   ]
  },
  {
   "cell_type": "markdown",
   "metadata": {},
   "source": [
    "**Topic 11 - Avoiding Crowds**  \n",
    "In particular, going early to avoid crowds"
   ]
  },
  {
   "cell_type": "code",
   "execution_count": 108,
   "metadata": {},
   "outputs": [
    {
     "name": "stdout",
     "output_type": "stream",
     "text": [
      "early        2.584439\n",
      "crowd        2.397241\n",
      "morning      0.961203\n",
      "avoid        0.888423\n",
      "start        0.508107\n",
      "summer       0.452922\n",
      "busy         0.396791\n",
      "late         0.389514\n",
      "afternoon    0.312674\n",
      "arrive       0.229653\n",
      "Name: topic_11, dtype: float64\n",
      "['Crowds below; crowds on the Mist Trail to the top, and busy at the top as well.  But worth it!  Go early!'\n",
      " 'Visit in early morning or late afternoon to avoid the crowds'\n",
      " 'We stop 1st here by car, was not to crowd early in the morning and you have a wonderful view of the full valley'\n",
      " 'Drove up real early on my birthday. What a glorious way to begin my day. Going early is a must before the summer crowds arrive.'\n",
      " 'Well maintained path with steep inclines.  To avoid the crowds start the hike early.  If you you are not there early it is recommended to take the shuttle to avoid parking problems.']\n"
     ]
    }
   ],
   "source": [
    "topic = 11\n",
    "n_reviews = 5\n",
    "n_words = 10\n",
    "\n",
    "print(top_words(word_matrix, topic, n_words))\n",
    "print(top_reviews(topic_matrix, topic, n_reviews))\n",
    "topics_list.append('Avoiding Crowds')"
   ]
  },
  {
   "cell_type": "markdown",
   "metadata": {},
   "source": [
    "**Topic 12 - Park Views at Glacier Point**  \n",
    "In particular, "
   ]
  },
  {
   "cell_type": "code",
   "execution_count": 110,
   "metadata": {},
   "outputs": [
    {
     "name": "stdout",
     "output_type": "stream",
     "text": [
      "park        3.121951\n",
      "national    1.443777\n",
      "yosemite    0.596151\n",
      "car         0.309724\n",
      "enter       0.183118\n",
      "entrance    0.125020\n",
      "leave       0.094775\n",
      "service     0.093389\n",
      "visitor     0.086358\n",
      "stay        0.082068\n",
      "Name: topic_12, dtype: float64\n",
      "['This is a very beautiful point in the Yosemite National Park. There is so much to see in there. We really enjoyed everything about Yosemite National Park.'\n",
      " 'Yosemite National Park is probably the best walking and hiking park in the 48 states.  We were their Sept. 10th through the 12th,  There were probably a hundred thousand or more in the park, but the park is so massive that it did not seem crowed. Their are extreme trails and moderate trails. This is a must see park. Not a park that you ride around in like Yellowstone but, worth the trip.'\n",
      " 'You absolutely must go to Yosemite National Park, and Glacier Pint is a must-see! The rock formation is just another example of the stunning beauty within the national park!!'\n",
      " 'Magnificent views over Yosemite national park. A 35 mile drive from the entrance to the park but what a view. A must when visiting.'\n",
      " 'So if you can only choose one National Park to visit, make it Yosemite National Park! We went to Glacier Point first, and had an amazing view. Then we drove into the valley and parked.  We took the shuttles around and so enjoyed our visit looking back UP at Glacier Paint! So worth the trip!']\n"
     ]
    }
   ],
   "source": [
    "topic = 12\n",
    "n_reviews = 5\n",
    "n_words = 10\n",
    "\n",
    "print(top_words(word_matrix, topic, n_words))\n",
    "print(top_reviews(topic_matrix, topic, n_reviews))\n",
    "topics_list.append('Park Views')"
   ]
  },
  {
   "cell_type": "markdown",
   "metadata": {},
   "source": [
    "**Topic 13 - Glacier Point & Half Dome**  \n",
    "In particular, "
   ]
  },
  {
   "cell_type": "code",
   "execution_count": 113,
   "metadata": {},
   "outputs": [
    {
     "name": "stdout",
     "output_type": "stream",
     "text": [
      "dome          3.519145\n",
      "half          3.203864\n",
      "sentinel      0.506813\n",
      "sunset        0.498547\n",
      "village       0.143268\n",
      "mile          0.126365\n",
      "include       0.124681\n",
      "sun           0.120580\n",
      "especially    0.119849\n",
      "arrive        0.104188\n",
      "Name: topic_13, dtype: float64\n",
      "['This trail is a bit off the path of the half dome hike and worth doing because it mixes up the scenery of the half dome hike. '\n",
      " 'Glacier Point give you a small taste of what you see from the top of Half Dome. There are also a few hiking trails that go to Half Dome or to the valley floor.'\n",
      " 'After climbing the Half Dome we took a rest day to go to glacier point. It has a different view of the half dome. It is very popular and you can drive to it. '\n",
      " 'The best view of the valley and Half dome. No one should miss this view, must visit. I have seen the half dome from this point multiple times. This is spectacular.'\n",
      " 'Went to Glacier Point vista point to look over the Yosemite Valley below. You can see Half Dome, El Capitan, and all the snow peaked domes in the area. You can even see all the hikers on the trail to Half Dome.']\n"
     ]
    }
   ],
   "source": [
    "topic = 13\n",
    "n_reviews = 5\n",
    "n_words = 10\n",
    "\n",
    "print(top_words(word_matrix, topic, n_words))\n",
    "print(top_reviews(topic_matrix, topic, n_reviews))\n",
    "topics_list.append('Glacier Point & Half Dome')"
   ]
  },
  {
   "cell_type": "markdown",
   "metadata": {},
   "source": [
    "**Topic 14 - Beautiful Falls**  \n",
    "In particular, "
   ]
  },
  {
   "cell_type": "code",
   "execution_count": 115,
   "metadata": {},
   "outputs": [
    {
     "name": "stdout",
     "output_type": "stream",
     "text": [
      "beautiful     4.841553\n",
      "scenery       0.385571\n",
      "quite         0.231738\n",
      "yosemite      0.141283\n",
      "say           0.134240\n",
      "sunset        0.132398\n",
      "absolutely    0.130714\n",
      "crowded       0.098738\n",
      "stair         0.089163\n",
      "nature        0.080211\n",
      "Name: topic_14, dtype: float64\n",
      "['Perhaps the most beautiful, although a bit stressful drive ever.  The further you go the more beautiful it gets.  '\n",
      " \"Such a beautiful mountain! It's mass almost can't be described by words. It is a beautiful thing to see!! \"\n",
      " 'Beautiful falls, there are many falls in Yosemite National Park.  They all are beautiful against the backdrop of the surrounding scenery.'\n",
      " 'All the falls were beautiful since we were there in the spring.'\n",
      " 'These waterfalls are so beautiful they do not look real.  It is a beautiful postcard that is actually real.  One of the most beautiful scenes of the Yosemite National Park.']\n"
     ]
    }
   ],
   "source": [
    "topic = 14\n",
    "n_reviews = 5\n",
    "n_words = 10\n",
    "\n",
    "print(top_words(word_matrix, topic, n_words))\n",
    "print(top_reviews(topic_matrix, topic, n_reviews))\n",
    "topics_list.append('Beautiful Falls')"
   ]
  },
  {
   "cell_type": "markdown",
   "metadata": {},
   "source": [
    "**Topic 15 - Yosemite Valley**  \n",
    "In particular, views of YV from Glaicer Point"
   ]
  },
  {
   "cell_type": "code",
   "execution_count": 117,
   "metadata": {},
   "outputs": [
    {
     "name": "stdout",
     "output_type": "stream",
     "text": [
      "valley         4.560932\n",
      "yosemite       2.360615\n",
      "floor          1.118505\n",
      "different      0.307364\n",
      "entire         0.278964\n",
      "mile           0.223804\n",
      "hour           0.196074\n",
      "lodge          0.174310\n",
      "perspective    0.162521\n",
      "sight          0.147274\n",
      "Name: topic_15, dtype: float64\n",
      "['A must side trip when visiting Yosemite Valley.  The drive takes time, but it is one of the best views of the valley. '\n",
      " 'We busted here to get a view of the entire Yosemite valley. Views are utterly amazing, especially the drop down to the valley. '\n",
      " 'The views here are utterly amazing. We like to stop here on the way into the valley, since it takes about an hour to get to the valley from here. It is about 4000 feet above the valley floor, with commanding views of Half Dome, Yosemite Falls, the valley floor, Vernal Falls, and Nevada Falls. You may also start several hikes here, including the aptly named 4-milte trail and 8-mile trail to the valley floor.It is so inspiring, I nearly proposed to my wife here. Didn\\'t have the ring with me, however. It makes a good story, and is almost like something Captain Jack Sparrow would say. I tell the kids, \"This is the spot I ALMOST proposed to your mother\".If you want to hike down and you don\\'t have someone to drive you here, you can book a tour that takes you up to Glacier Point at the Yosemite Lodge.'\n",
      " 'A must place when visiting to get good view of Yosemite Valley, and picture of Half Dome. Some drive from Yosemite Valley, but you can also take a bus. '\n",
      " \"From Glacier Point the entire Yosemite Valley can be seen.  It's reachable by vehicle or by shuttle from the Valley floor.  The view is outstanding!\"]\n"
     ]
    }
   ],
   "source": [
    "topic = 15\n",
    "n_reviews = 5\n",
    "n_words = 10\n",
    "\n",
    "print(top_words(word_matrix, topic, n_words))\n",
    "print(top_reviews(topic_matrix, topic, n_reviews))\n",
    "topics_list.append('Yosemite Valley')"
   ]
  },
  {
   "cell_type": "markdown",
   "metadata": {},
   "source": [
    "**Topic 3 -   d**  \n",
    "In particular, "
   ]
  },
  {
   "cell_type": "code",
   "execution_count": 118,
   "metadata": {},
   "outputs": [
    {
     "name": "stdout",
     "output_type": "stream",
     "text": [
      "amazing       3.970289\n",
      "experience    0.356236\n",
      "nature        0.163672\n",
      "view          0.123779\n",
      "scenery       0.120757\n",
      "site          0.115519\n",
      "awe           0.106738\n",
      "simply        0.103922\n",
      "glad          0.095835\n",
      "stand         0.090288\n",
      "Name: topic_16, dtype: float64\n",
      "['Definately must do!Amazing, marvelous view, just to escape from the city jungle and enjoy with all your sences!!'\n",
      " 'defi have a stop at glacier point - the views are just amazing from there. It does get crowded but you will find space for that amazing picture and views. '\n",
      " 'This is a medium difficulty trail to the top of the waterfall. The view is amazing from the top and the source of waterfall is just an amazing site.'\n",
      " 'It is amazing to think about how people climb this massive rock face! There are amazing views of this from many places around the park!'\n",
      " 'The views and scenery are amazing, do it, you will love it!']\n"
     ]
    }
   ],
   "source": [
    "topic = 16\n",
    "n_reviews = 5\n",
    "n_words = 10\n",
    "\n",
    "print(top_words(word_matrix, topic, n_words))\n",
    "print(top_reviews(topic_matrix, topic, n_reviews))\n",
    "# topics_list.append('Yosemite Falls')"
   ]
  },
  {
   "cell_type": "markdown",
   "metadata": {},
   "source": [
    "**Topic 3 -   d**  \n",
    "In particular, "
   ]
  },
  {
   "cell_type": "code",
   "execution_count": 119,
   "metadata": {},
   "outputs": [
    {
     "name": "stdout",
     "output_type": "stream",
     "text": [
      "water     3.600122\n",
      "flow      0.781722\n",
      "bring     0.698549\n",
      "plenty    0.342464\n",
      "spring    0.275069\n",
      "dry       0.265402\n",
      "summer    0.257024\n",
      "snack     0.242907\n",
      "bottle    0.226840\n",
      "hot       0.193693\n",
      "Name: topic_17, dtype: float64\n",
      "['A waterfall with almost no water is always a bit disappointing.  nonetheless, without water one sees the marvelous sculpturing of the boulders beneath and treasures the water flow that is, while missing that which is not.'\n",
      " 'It was definitely worth the walk to see the base of the falls even tho there was no water. You could see the outline of where the water would have been and just imagine what it would have been like with water flowing although it was sad to see the empty stream bed.'\n",
      " 'This water was ragging down the apron into the pool. I had been there in Sept. and walked across the apron. Very dangerous. Slipping hazard and cold water. Imagine being so close to the top of a water fall. Hope they never move the fence. Stay out of the water. '\n",
      " 'Water was at a trickle but a great hike nonetheless.  Want to revisit in the spring when more water is flowing.  '\n",
      " 'There is little water flowing and it was still a fabulous hike.  There is a lot of elevation over the 2 miles, and near the falls there are stone steps to walk up to the falls.  It is well worth the trip.  Bring water.  There is water and bathrooms along the trail.  In the late afternoon there are often beautiful rainbows across the water.  ']\n"
     ]
    }
   ],
   "source": [
    "topic = 17\n",
    "n_reviews = 5\n",
    "n_words = 10\n",
    "\n",
    "print(top_words(word_matrix, topic, n_words))\n",
    "print(top_reviews(topic_matrix, topic, n_reviews))\n",
    "# topics_list.append('Yosemite Falls')"
   ]
  },
  {
   "cell_type": "markdown",
   "metadata": {},
   "source": [
    "**Topic 3 -   d**  \n",
    "In particular, "
   ]
  },
  {
   "cell_type": "code",
   "execution_count": 120,
   "metadata": {},
   "outputs": [
    {
     "name": "stdout",
     "output_type": "stream",
     "text": [
      "place        4.750276\n",
      "wonderful    0.349009\n",
      "picture      0.284412\n",
      "sunset       0.196402\n",
      "love         0.172189\n",
      "stunning     0.153094\n",
      "truly        0.143140\n",
      "life         0.141824\n",
      "word         0.129325\n",
      "list         0.128667\n",
      "Name: topic_18, dtype: float64\n",
      "['Need car to ger there, but is a amazing place. The road is beatiful, the place has a  impressive view. '\n",
      " 'If you can only check out one place in Yosemite, this is the place. Great views of the valley and surrounding area.'\n",
      " 'I was here in May 2014 and this place is on my short list of places that I really wanted to visit.  It was well worth the trip'\n",
      " \"Really great place to visitIt's wonderful place to see a national park Visited in summer with family elders\"\n",
      " 'This place symbolizes the grandness of nature. Breathtaking views which are unique to Yosemite National Park. Visit the place early as the place has a very limited parking. You might have to wait for hours to get the shuttle to this point.']\n"
     ]
    }
   ],
   "source": [
    "topic = 18\n",
    "n_reviews = 5\n",
    "n_words = 10\n",
    "\n",
    "print(top_words(word_matrix, topic, n_words))\n",
    "print(top_reviews(topic_matrix, topic, n_reviews))\n",
    "# topics_list.append('Yosemite Falls')"
   ]
  },
  {
   "cell_type": "markdown",
   "metadata": {},
   "source": [
    "**Topic 3 -   d**  \n",
    "In particular, "
   ]
  },
  {
   "cell_type": "code",
   "execution_count": 121,
   "metadata": {},
   "outputs": [
    {
     "name": "stdout",
     "output_type": "stream",
     "text": [
      "time          5.213040\n",
      "spend         0.494372\n",
      "wish          0.205573\n",
      "need          0.170479\n",
      "able          0.159155\n",
      "stay          0.159064\n",
      "experience    0.158379\n",
      "want          0.147067\n",
      "life          0.144978\n",
      "plenty        0.130109\n",
      "Name: topic_19, dtype: float64\n",
      "['Try going in the winter time. The view is spectacular any time of year. There are few visitors, so you spend less time navigating and more time sight seeing.'\n",
      " \"The best time to go would be around May because after that the Falls will run weaker. You can see it from the Valley and it's like your greetings card from Yosemite! Spend some time and go for a hike!\"\n",
      " 'Every time I visit Glacier Point, it is like I am visiting it for the first time. The views are breathtaking. There is so much to take in from every angle. The drive up can be a little nerve wracking so make sure you take your time and enjoy.'\n",
      " \"I've been to this part of the Yosemite NP several times but each time I still find it interesting. It's always busy with heap of tourists. The view is incredible. The parking lot can be a headache if you come in the wrong time. But there are plenty of parking spaces. Wind gust can be annoying at times.\"\n",
      " \"Beautiful...you can't go to Yosemite and not spend some time here!\"]\n"
     ]
    }
   ],
   "source": [
    "topic = 19\n",
    "n_reviews = 5\n",
    "n_words = 10\n",
    "\n",
    "print(top_words(word_matrix, topic, n_words))\n",
    "print(top_reviews(topic_matrix, topic, n_reviews))\n",
    "# topics_list.append('Yosemite Falls')"
   ]
  },
  {
   "cell_type": "markdown",
   "metadata": {},
   "source": [
    "**Topic 3 -   d**  \n",
    "In particular, "
   ]
  },
  {
   "cell_type": "code",
   "execution_count": 122,
   "metadata": {},
   "outputs": [
    {
     "name": "stdout",
     "output_type": "stream",
     "text": [
      "vernal        3.823835\n",
      "nevada        2.738232\n",
      "muir          0.854241\n",
      "john          0.790360\n",
      "fall          0.608544\n",
      "continue      0.511172\n",
      "mist          0.395145\n",
      "past          0.319611\n",
      "footbridge    0.318717\n",
      "happy         0.259316\n",
      "Name: topic_20, dtype: float64\n",
      "['Vernal Fall is the closer of two with Nevada being further.  If you are looking for adventure and are in good shape, then do the Nevada Falls hike.  We took the John Muir trail to Nevada and it was beautiful!!  Then on our way back, we hit the Vernal Fall trail and immediately were immersed in wall to wall people.  Yikes, the Nevada and John Muir trails were almost empty compared to the cattle herding on Vernal.  But, it is a good hike for the elderly and people with small children.  Go early...as in before 9am.'\n",
      " 'The proximity to half dome, and the view of Nevada and Vernal Falls below, make this a must see at Yosemite. '\n",
      " 'To hike to the top of vernal falls is wet and worth every step.  If you are up to it go all the up to Nevada Falls first and work your way down to Vernal Falls'\n",
      " 'Vernal falls is the first water fall you will see on the Happy Isles trail.  Just a twenty minute uphill walk will take you to the bridge to see Vernal Falls.  Continue up the Mist trail to the tops Vernal Falls.  Lots of steps and you may get wet.  Continue on to Nevada falls...another hour from the top of Vernal.  Then on to Half Dome it you made a reservation.  Take the John Muir Trail back down for more great views of the water falls, Clouds Rest, and even Yosemite falls.  I recommend to take a sack lunch and have it at Nevada falls.  Enjoy!'\n",
      " \"The Mist trail from Happy Isles up to Vernal Falls is probably the best trail I've hiked. It was so much fun! The section up the steps with Vernal Falls in front of you is amazing. Be warned though that the trail is steep and you will get wet - make sure to bring a rain coat and pants or a poncho. I hiked it in May after record snowfall so it was flowing high/wide. Such cool views of the falls and the climb was fun, saw a few rainbows too. We then continued up to Nevada Falls, which has spectacular views of the valley. The hike from Vernal to Nevada is pretty brutal and you're up toward altitude - top of Nevada is roughly 6000' elevation but the views at the top are worth it. Can't recommend this hike more.Whether you go to Vernal or Nevada, take the John Muir trail down so as not to be going against traffic on the wet misty steps.\"]\n"
     ]
    }
   ],
   "source": [
    "topic = 20\n",
    "n_reviews = 5\n",
    "n_words = 10\n",
    "\n",
    "print(top_words(word_matrix, topic, n_words))\n",
    "print(top_reviews(topic_matrix, topic, n_reviews))\n",
    "# topics_list.append('Yosemite Falls')"
   ]
  },
  {
   "cell_type": "code",
   "execution_count": 8,
   "metadata": {
    "jupyter": {
     "source_hidden": true
    }
   },
   "outputs": [],
   "source": [
    "nmf_dict = {'nmf': [],'error': [], 'topic_matrix': [], 'word_matrix': []}\n",
    "\n",
    "for i in range(0, 30):\n",
    "\n",
    "    nmf, err, topic_matrix, word_matrix = nmf_topic_modeling(review_word_matrix, review_vocab, i+1)\n",
    "\n",
    "    topic_matrix[['raw_review','review_cleanned']] = df[['review_text','review_lemma']]\n",
    "    \n",
    "    nmf_dict['nmf'].append(nmf)\n",
    "    nmf_dict['error'].append(err)\n",
    "    nmf_dict['topic_matrix'].append(topic_matrix)\n",
    "    nmf_dict['word_matrix'].append(word_matrix)\n",
    "    \n",
    "    print(f\"Progress Update On NMF Components: {i+1} currently.\")"
   ]
  },
  {
   "cell_type": "markdown",
   "metadata": {},
   "source": [
    "## Vectorizer & Topic Modeling - Round 2\n",
    "\n",
    "Doing 20 topics only this time!"
   ]
  },
  {
   "cell_type": "code",
   "execution_count": 76,
   "metadata": {},
   "outputs": [],
   "source": [
    "topics_list = []"
   ]
  },
  {
   "cell_type": "code",
   "execution_count": 54,
   "metadata": {},
   "outputs": [],
   "source": [
    "# stop_words = ENGLISH_STOP_WORDS.union(['yosemite'])\n",
    "\n",
    "tfidf = TfidfVectorizer(stop_words='english', min_df = 20, max_df = 0.5)\n",
    "review_word_matrix = tfidf.fit_transform(df['review_lemma'])\n",
    "review_vocab = tfidf.get_feature_names()\n"
   ]
  },
  {
   "cell_type": "code",
   "execution_count": 123,
   "metadata": {},
   "outputs": [],
   "source": [
    "nmf_model, err, topic_matrix, word_matrix = nmf_topic_modeling(review_word_matrix, vocab = review_vocab, n = 20)\n",
    "topic_matrix[['raw_review','review_cleanned']] = df[['review_text','review_lemma']]"
   ]
  },
  {
   "cell_type": "markdown",
   "metadata": {},
   "source": [
    "Let's start exploring the topics that were generated using NMF for upto 50 topics"
   ]
  },
  {
   "cell_type": "markdown",
   "metadata": {},
   "source": [
    "**Topic 0 - Mist Trail**  \n",
    "In particular, hiking at Mist Trail"
   ]
  },
  {
   "cell_type": "code",
   "execution_count": 124,
   "metadata": {},
   "outputs": [
    {
     "name": "stdout",
     "output_type": "stream",
     "text": [
      "trail       4.979392\n",
      "mist        1.901066\n",
      "muir        1.093938\n",
      "nevada      1.019291\n",
      "john        0.973173\n",
      "vernal      0.935366\n",
      "mile        0.463318\n",
      "falls       0.445994\n",
      "continue    0.308046\n",
      "way         0.271942\n",
      "Name: topic_0, dtype: float64\n",
      "['I have been through this Trail twice.  First time was in June 2008 on the way to Half Dome and as the fall was in full blast, it was not a \"mist\" trail, it was more like a \"freaking thunderstorming turning over a bucket\" trail.  This time around I came down the mist trail on the Panorama Trail and as it was August, I barely got misted.  This is a pretty spectacular trail and a relatively short hike from Happy Isles (2 miles to the top or Vernal Fall or something like that).  It\\'s worth a hike up to the top, but use the mist trail, not the John Muir trail.  '\n",
      " \"The mist trail is a very strenuous hike but worth it.  If you don't think you can do it, then there's always the John Muir trail to the top of Nevada Falls.  The John Muir trail is easier but still pretty difficult.  We hiked to the top of the Nevada Falls via the Mist trail but hiked back down via the John Muir trail.\"\n",
      " 'Do not sleep in.  We were on the Mist Trail by 7:30 a.m.  We also walked up to Nevada Fall and came back down the John Muir Trail.  There were not crowds until about 11:00 a.m.'\n",
      " 'We went up the Mist trail all the way to the top .... W o W !'\n",
      " \"We visited Yosemite for four days and had entered the lottery to climb Half Dome. I was pretty disappointed when we didn't get it, but what ya gonna do? We wanted to do a long hike and decided on the Mist Trail to the Panorama Trail to Glacier Point, and then back down to the valley via Four Mile Trail. Mist Trail was AWESOME! And the mist is no joke...you get soaked! We had raincoats, and I was glad we did to protect my camera. Besides the amazing experience of climbing up (a lot of the trail is steep stairs) through the mist and seeing the beautiful Vernal and Nevada Falls, there were rainbows in the canyon, so close that if they had been tangible, we could have touched them. It was truly magical. While we went on to the Panorama and Four Mile trail, which was almost 14 miles, if you just do the Mist Trail and want to come back down, I would recommend descending on the John Muir Trail, which is to the right of the Mist Trail. The Mist Trail is very steep and slippery and I would imagine difficult to descend. IMO, this is one hike not to be missed!\"]\n"
     ]
    }
   ],
   "source": [
    "topic = 0\n",
    "n_reviews = 5\n",
    "n_words = 10\n",
    "\n",
    "print(top_words(word_matrix, topic, n_words))\n",
    "print(top_reviews(topic_matrix, topic, n_reviews))\n",
    "topics_list.append('Mist Trail')"
   ]
  },
  {
   "cell_type": "markdown",
   "metadata": {},
   "source": [
    "**Topic 1 - Glacier Point**  \n",
    "In particular, the views at Glacier Point"
   ]
  },
  {
   "cell_type": "code",
   "execution_count": 125,
   "metadata": {},
   "outputs": [
    {
     "name": "stdout",
     "output_type": "stream",
     "text": [
      "point       2.369260\n",
      "glacier     2.048053\n",
      "road        0.342321\n",
      "view        0.279394\n",
      "sentinel    0.165874\n",
      "mile        0.144577\n",
      "parking     0.137450\n",
      "taft        0.126302\n",
      "panorama    0.114262\n",
      "washburn    0.112618\n",
      "Name: topic_1, dtype: float64\n",
      "[\"we saw this fall when we went to the Glacier point, it's already very beautiful when we saw in the in Glacier point, you can also see it at the Washburn point (which is a spot on the Glacier point road), there is a trail leading to the falls, you may do it if you have time.\"\n",
      " \"We spent the day hiking around Glacier Point.  The Point itself is the one place up the Glacier Point road that you don't have to do a long hike to get to.  It is a relatively short walk to the Point and to the reward of a fabulous view.   Amazingly it was not crowded at around 10 am on a Monday.  There are a number of vantage points to enjoy the view.  Definitely take the time to get a different view of Yosemite and the valley.  There are bathrooms in the parking lot.You can hike to Sentinel Dome from Glacier point.  We chose to drive down to the Taft Point / Sentinel Dome Trail head to hike to Sentinel Point and then Taft Point.  It is a but longer of a hike to Sentinel Dome from the Taft Point trail head than from Glacier point but supposedly not as steep.  The drive to Glacier Point from the valley is about an hour (30 miles).  There is no free shuttle to the point only a pay for tour.\"\n",
      " 'WOW! The views from Glacier Point are outstanding. The park is amazing! Must see! I would recommend a one way bus pass to Glacier point, then hike down Glacier point (4 miles). The views are breath taking!'\n",
      " 'It is a bit of a ride to get to Glacier point. It took us almost two hours to get to glacier point from the valley. Besides the long trip you most likely stop a few times to see the beautiful sightseeing. Glacier point is beatiful and offers great views.'\n",
      " \"Visited last week of September.Glacier Point is One of the best viewpoints of Yosemite Valley,it is accessible from Wawona Rd (Hwy 41) about 16Miles,1 hour drive south of the valley floor,quite a bit of a drive, but its definitely worth it for the spectacular view.Other way to reach Glacier Point, 1-you can hike the Four-Mile Trail from the valley to Glacier Point.  2-by a paid bus that you can take to Glacier Point.We arrived early(9AM)by Car and were able to find parking and the crowds were limited.The two Glacier Point Lookout are a very short walk to get to from the Parking Lot.The Panoramic View of Yosemite valley from here is amazing and great forpictures,you can see Half Dome, Upper and Lower Yosemite Falls,Vernal falls,Nevada Falls and many other points of interest.There are Free Telescope viewer faces Half Dome at observation stations for viewing sights,you can see people climbing up Half Dome.Also there is a small geological display Box help the visitors to identify what they are looking at.There is a Gift Shop that sells souvenirs and snacks,also there are restrooms as well,but no running water(absolutely disgusting!).Traveling on Glacier Point Road be sure to stop at Washburn Point before you get to Glacier Point,it is just off the road.You can get the same view of the surrounding areas, but from a slightly different angle,which is almost an equally impressive viewpoint.The views of Vernal and Nevada Falls are slightly closer from Washburn Point than from Glacier Point.If you go to Yosemite, Be Sure to stop by Glacier Point and Washburn Point .Go early to avoid the crowd and take your time to admire the view from there,and take a lots of photos, it's spectacular.\"]\n"
     ]
    }
   ],
   "source": [
    "topic = 1\n",
    "n_reviews = 5\n",
    "n_words = 10\n",
    "\n",
    "print(top_words(word_matrix, topic, n_words))\n",
    "print(top_reviews(topic_matrix, topic, n_reviews))\n",
    "topics_list.append('Glacier Point')"
   ]
  },
  {
   "cell_type": "markdown",
   "metadata": {},
   "source": [
    "**Topic 2 - Yosemite Falls**  \n",
    "In particular, Upper and Lower Yosemite Falls"
   ]
  },
  {
   "cell_type": "code",
   "execution_count": 130,
   "metadata": {},
   "outputs": [
    {
     "name": "stdout",
     "output_type": "stream",
     "text": [
      "fall        2.732613\n",
      "low         0.841530\n",
      "upper       0.665215\n",
      "vernal      0.307615\n",
      "yosemite    0.288478\n",
      "base        0.279379\n",
      "close       0.195083\n",
      "nevada      0.162833\n",
      "spring      0.142781\n",
      "winter      0.126650\n",
      "Name: topic_2, dtype: float64\n",
      "[\"Here is the most important thing to know about all the falls in Yosemite Park.  I have seen a number of people complaining in reviews that they were here in summer, fall, winter, whatever, and the falls were anemic. In California, it does not rain from late spring through mid-fall, and there is no water. The spectacular falls rely on spring snow melt, and so are at their best in early to mid spring.  Even in winter, when it begins to rain, rainfall alone is not enough to really get the falls going, it is when the snowpack melts that they thunder and roar.  So if it is your goal to see the falls at their best, it is essential you plan a spring trip.Yosemite Falls is one spectacular fall.  Well, actually, it is a 3fer! While it is not wide, it is reportedly the tallest waterfall in the U.S.  The upper fall plunges straight down from where Yosemite Creek pours over the edge on its way to join the Merced River.  It is the tallest and most dramatic section of the falls, foaming and frothing on its way down.  The falls then tumble through a series of cascades that are hard to see from most vantage points, before lunching themselves into the final, narrow dive of the lower falls.  At the bottom of the lower falls is an excellent area to view the lower falls fairly up close; further back along the trail leading to the bottom are great views of both upper and lower falls.  Expect to get a little damp from the spray at the bottom of the falls, especially if it's a breezy day. If the falls are in full roar, you will be able to feel the thunder in your chest.\"\n",
      " 'The lower fall is spectacular and if we had enough time we would have walked to the top to see the upper fall.'\n",
      " 'Easy trail to the bottom of the Lower Falls. From that point you can see Upper and Lower Falls together. Amazing.'\n",
      " 'Take the short trail to the base of the falls.  From here you can see just the lower falls.  Walk out on Cooks Meadow, or go to Swinging bridge and see both upper and lower falls, but from farther away'\n",
      " 'Since the Yosemite Falls are some of the longest in the world, they are a must-see.  The trail to get to the Lower part of the falls is an easy hike, but to get a view of the whole Upper and Lower Falls, you only need to go to a place near the restrooms (which, by the way, are pretty nice flushies).  So if a hike is out of the question, you can still see the falls.  We went in the spring when the falls were roaring . . . we loved it']\n"
     ]
    }
   ],
   "source": [
    "topic = 2\n",
    "n_reviews = 5\n",
    "n_words = 10\n",
    "\n",
    "print(top_words(word_matrix, topic, n_words))\n",
    "print(top_reviews(topic_matrix, topic, n_reviews))\n",
    "topics_list.append('Yosemite Falls')"
   ]
  },
  {
   "cell_type": "markdown",
   "metadata": {},
   "source": [
    "**Topic 3 - Driving Tioga Pass**  \n",
    "In particular, driving Through Tioga Pass "
   ]
  },
  {
   "cell_type": "code",
   "execution_count": 131,
   "metadata": {},
   "outputs": [
    {
     "name": "stdout",
     "output_type": "stream",
     "text": [
      "pass      1.459168\n",
      "tioga     1.167593\n",
      "road      1.136419\n",
      "lake      0.926403\n",
      "drive     0.775960\n",
      "stop      0.443354\n",
      "meadow    0.405786\n",
      "open      0.404769\n",
      "snow      0.352920\n",
      "mono      0.296401\n",
      "Name: topic_3, dtype: float64\n",
      "[\"Tioga Pass is a small pass between the mountains on your way to enter the Yosemite Valley through the Tioga road from East. However; I presume most people tend to equate it with the entire Tioga road - which is an excellent 2 hour scenic drive through not so scary mountain roads, meadows and lakes from the town of Lee Vining to Yosemite Village. You come across several Yosemite attractions along the way (Tioga Lake, Tenaya Lake, Lembert Dome, Dog Lake, Tolumne meadows to name a few). Check the road condition before you travel; as it can be closed during snow (there's a sign on highway 395 that let's you know if the pass is open or closed). Amenities along the road are not available in winter; but in summer when the road is open you can get several eateries; the west entrance visitor center and a gas station. The road can be narrow at times; so drive carefully and enjoy the scenery.\"\n",
      " \"The drive along Tioga Road and over Tioga Pass is is one of California's most spectacular. The scenery along the way is amazing - Tenaya Lake, Tuolumne Meadows, views of Mt. Hoffmann, Mt. Conness, Mt. Dana, and the Cathedral Range, and the view from Olmstead Point of Half Dome and Clouds Rest from a much different vantage point than from Yosemite Valley. And the drive up (or especially down) the east side of Tioga Pass to Lee Vining and Mono Lake is exhilarating...although those with a fear of heights might want to think twice about that portion of the road. There's a pullout on the east side of the pass that offers a great view down Lee Vining Canyon and far beyond to the White Mountains on a clear day. Lots of options for things to do right around Tioga Pass itself - the meadows around there are beautiful, you can hike to the top of Mt. Dana, Gaylor Peak, or Tioga Peak, drive up to Saddlebag Lake and hike the 20 Lakes Basin, fish at one of the lakes near the pass, etc. So many people don't see Yosemite from anywhere other than the Valley, and maybe Glacier Point, but there is so much more to see in the high country along the Tioga Road.\"\n",
      " 'The Tioga Pass road is a mountain pass in the Sierra Nevada Mountains that allows you to drive directly to Yosemite Valley from the eastern side of the mountains (without taking a huge detour around the mountains).  The road to Yosemite Valley starts in Lee Vining, California. The Tioga Pass Road takes about two hours to drive and generally closes due to bad weather around November and re-opens in May or June.I drove through the pass in late July with my wife as we were leaving Yosemite on our way to Lake Tahoe. We both enjoyed this amazing drive and stopped several times to get a better view and take some pictures. The road passes by many great alpine lakes including Tiago and Ellery and the road also passes through Tuolumne Meadows, one of Yosemite’s most famous attractions.  There are a few spots on the road that made my wife nervous as we were near the edge of a cliff at times.  I thought the drive would have been a little more nerve wracking based on some of the reviews I read before the trip started.Overall I really enjoyed this amazing drive and recommend it. Take your time to get the most out of the drive. I would not like to drive this in the winter (even though I am from Minnesota and used to driving in snow). I thought Tioga Pass was one of the most scenic drives I have ever been on.'\n",
      " 'We were fortunate in being able to unexpectedly drive along the Tioga Pass Road at Christmas when we visited YNP. Usually the road is closed in the winter, but the bizarre weather had left Yosemite strangely snowless in December, so the whole of the park, including this road, was open. It was simply amazing to drive along. If it\\'s open when you visit, please don\\'t pass up on the opportunity to see it. The scenery seems to change with every turn of the road, and you\\'ll go from alpine vistas to granite slabs to almost desert scenery along the way. And if you head out east of the Tioga Pass itself and have time, I\\'d recommend a visit to Mono Lake in Lee Vining - you have to see the spectacular \"tufa towers\" on the town\\'s Mono Lake Tufa State Natural Reserve  - calcium carbonate spires and knobs formed by interaction of freshwater springs and alkaline lake water. '\n",
      " 'We went to Yosemite in May 2014 and It was the First Weekend Tioga Pass Road had opened after the Snowfall. The drive through Tioga Pass Road was well worth it with Beautiful Views!!']\n"
     ]
    }
   ],
   "source": [
    "topic = 3\n",
    "n_reviews = 5\n",
    "n_words = 10\n",
    "\n",
    "print(top_words(word_matrix, topic, n_words))\n",
    "print(top_reviews(topic_matrix, topic, n_reviews))\n",
    "topics_list.append('Tioga Pass')"
   ]
  },
  {
   "cell_type": "markdown",
   "metadata": {},
   "source": [
    "**Topic 4 - Hiking**  "
   ]
  },
  {
   "cell_type": "code",
   "execution_count": 133,
   "metadata": {},
   "outputs": [
    {
     "name": "stdout",
     "output_type": "stream",
     "text": [
      "hike         2.846332\n",
      "strenuous    0.335727\n",
      "easy         0.307811\n",
      "mile         0.297353\n",
      "short        0.207582\n",
      "worth        0.200180\n",
      "hour         0.143952\n",
      "day          0.131453\n",
      "moderate     0.128889\n",
      "falls        0.125093\n",
      "Name: topic_4, dtype: float64\n",
      "['We hiked to vernal falls and it is a moderate hike.  The trail is well kept and easy to hike on.  It is a beautiful and very peaceful hike.  We went early in the morning and the fog was over the valley which was very serene.'\n",
      " \"we didn't hike to the top of the falls just the Yosemite valley easy hike to the base and it was a easy and great hike.\"\n",
      " 'It is a strenuous hike but you will be rewarded. Please motivate yourself to do this hike. It will not take more than an hour even if you stop and go. Kids can do this also and I have seen many elderly people doing the hike. Incredible!'\n",
      " 'Easy hike with kids and there were restrooms on the hike.'\n",
      " 'It was quite strenuous hike but once you are up there you can feel achievement. The view along the hike is so beautiful.'\n",
      " 'Best beautiful hike in valley, short but strenous hike to bridge, worth it.'\n",
      " 'Vernal falls is one of two falls (Nevada falls is the other) that you can hike on the mist trail at Yosemite National Park. It is a steep uphill hike that is divided into two parts. The first part of the hike is simply a paved steep uphill hike that takes you to a footbridge. You are able to view Vernal falls from this footbridge. Many novice hikers choose to hike to this spot & then back down. If you are up for a challenge, the second part of the hike includes over 200 steep & wet steps to the top of Vernal falls. The view from the top makes the steep 1.6 mile hike worth it! My husband and I saw people of all ages challenging themselves during this hike! It was probably one of my favorite hikes at Yosemite National Park!'\n",
      " 'We have never been to Yosemite and researched a lot of hikes.  This was one that was only 8.5 miles round trip.  It was a strenuous hike going up to Nevada Falls.We came down the John Muir Trail because of it being less strenuous.  I would do this hike again but probably go down the way I came up only because it would be more challenging.I recommend this hike!'\n",
      " 'We hiked up to Vernal and Nevada Falls.  One of the best hikes we have ever done. Strenuous and crowded but well worth it.  The highlight of Yosemite. Bring water and snacks for this hike.'\n",
      " 'We hiked from the Valley floor to the top of the Upper Falls. It was quite a hike and took a lot out of us but we thoroughly enjoyed it and are glad we did it! It literally is to the top of the falls (you hike up the left side of it) and the views are amazing up there. You will see lots of people in passing while hiking to the top so take some time to chat if you are up to it. Very solid hike - would highly recommend it if you are able.']\n"
     ]
    }
   ],
   "source": [
    "topic = 4\n",
    "n_reviews = 10\n",
    "n_words = 10\n",
    "\n",
    "print(top_words(word_matrix, topic, n_words))\n",
    "print(top_reviews(topic_matrix, topic, n_reviews))\n",
    "topics_list.append('Hiking')"
   ]
  },
  {
   "cell_type": "markdown",
   "metadata": {},
   "source": [
    "**Topic 5 - El Capitan**  \n",
    "In particular, beauty of El Capitan"
   ]
  },
  {
   "cell_type": "code",
   "execution_count": 134,
   "metadata": {},
   "outputs": [
    {
     "name": "stdout",
     "output_type": "stream",
     "text": [
      "el           2.081836\n",
      "capitan      1.956899\n",
      "climber      1.306769\n",
      "rock         0.873246\n",
      "face         0.564187\n",
      "climb        0.446689\n",
      "watch        0.445592\n",
      "look         0.370616\n",
      "binocular    0.355162\n",
      "mountain     0.262432\n",
      "Name: topic_5, dtype: float64\n",
      "['El Capitan is one of if not the largest single piece of granite on the planet. To stand and look is always awe inspiring. I tell everyone who goes to yosemite to stop at every turnout and get out of the car and take the time to look in all directions. The views are incredible and the  sight of El Capitan is mind boggling. With you Binoculars be sure to scour the face of the rock for climbers. They are always there, and the enormity of the face of El Capitan makes the first climber hard to spot. Then magically you can find many climbers. What a view, what a place, Yosemite'\n",
      " 'El Capitan is a high mountain with a sheer cliff face that is very popular with rock climbers. The valley roads and the Tunnel View give excellent views of El Capitan.'\n",
      " 'El Capitan is a granite rock formation in Yosemite national park vertically. It is about 3000 ft high from its base to the top. El Capitan, also known as El Cap is located on the north side of Yosemite Valley, near its western end. It is very popular for rock climbers.The top of El Capitan can be reached by hiking out of Yosemite Valley on the trail next to Yosemite Falls but for climbers, the challenge is to climb up the sheer granite face. There are many named climbing routes, all of them arduous, including Iron Hawk and Sea of Dreams. In the early days of climbing, it used to take many days but recently many solo climbers have clocked it in few hours. '\n",
      " \"There is a beach at the base of El Capitan, called Devil's Elbow. It's the perfect place to get an up close view of the grandeur and size of El Capitan. Bring binoculars as you may have the pleasure of seeing climbers on the face.\"\n",
      " \"El Capitan is a granite monolith that juts upward 3,000 feet above the Yosemite Valley floor. It is a beautiful land formation with a surface smooth, the result of glacier activity nearly 1.3 million years ago. You won't be able to help but see El Capitan throughout your time in the Valley. It is first encountered as you drive through the Yosemite Tunnel and stop at the tunnel viewpoint. El Capitan dominates the landscape to the left, just opposite the Bridalveil Falls to the right of your view at this location. While driving in the valley, you can pull over from Northside Drive at the El Capitan Meadow and with binoculars, you can spot rock climbers scaling El Capitan. Simply look in the crevices and you'll seem them, tiny specks of colour upon the rock face. The sun shines nicely against El Capitan from late morning onward, allowing nice photographs to be taken during much of the day. When skies are clear and blue, it is a wonderful land formation to see as part of your Yosemite National Park experience.\"]\n"
     ]
    }
   ],
   "source": [
    "topic = 5\n",
    "n_reviews = 5\n",
    "n_words = 10\n",
    "\n",
    "print(top_words(word_matrix, topic, n_words))\n",
    "print(top_reviews(topic_matrix, topic, n_reviews))\n",
    "topics_list.append('El Capitan')"
   ]
  },
  {
   "cell_type": "markdown",
   "metadata": {},
   "source": [
    "**Topic 6 - Must Visit**  \n",
    "In particular, "
   ]
  },
  {
   "cell_type": "code",
   "execution_count": 137,
   "metadata": {},
   "outputs": [
    {
     "name": "stdout",
     "output_type": "stream",
     "text": [
      "valley       3.006317\n",
      "yosemite     2.495410\n",
      "floor        0.690864\n",
      "view         0.482034\n",
      "visit        0.364088\n",
      "mountain     0.238934\n",
      "different    0.235194\n",
      "entire       0.224131\n",
      "miss         0.203528\n",
      "high         0.195139\n",
      "Name: topic_6, dtype: float64\n",
      "['A must side trip when visiting Yosemite Valley.  The drive takes time, but it is one of the best views of the valley. '\n",
      " 'A must place when visiting to get good view of Yosemite Valley, and picture of Half Dome. Some drive from Yosemite Valley, but you can also take a bus. '\n",
      " 'We busted here to get a view of the entire Yosemite valley. Views are utterly amazing, especially the drop down to the valley. '\n",
      " 'worth a visit...while visiting Yosemite. There are amazing views of Yosemite Valley with great photo ops! takes about an hour to drive to Glacier Point from Yosemite Valley. totally worth it!'\n",
      " 'This is a must see.  The road to Glacier Point takes about 1 hour from Yosemite Valley or from Wawona.  This is your opportunity to look down on Yosemite Valley and see all of the places that you have been to.  In fact, I recommend that you go to Glacier Point AFTER visiting the Valley.  It will give you a good perspective as you look out over the valley.  Of course, the scenery is fabulous as well.']\n"
     ]
    }
   ],
   "source": [
    "topic = 6\n",
    "n_reviews = 5\n",
    "n_words = 10\n",
    "\n",
    "print(top_words(word_matrix, topic, n_words))\n",
    "print(top_reviews(topic_matrix, topic, n_reviews))\n",
    "topics_list.append('Must Visit')"
   ]
  },
  {
   "cell_type": "markdown",
   "metadata": {},
   "source": [
    "**Topic 7 - Walking Advice**  \n",
    "In particular, at the top of the falls & getting there"
   ]
  },
  {
   "cell_type": "code",
   "execution_count": 139,
   "metadata": {},
   "outputs": [
    {
     "name": "stdout",
     "output_type": "stream",
     "text": [
      "walk     3.081038\n",
      "easy     1.181079\n",
      "short    0.530749\n",
      "low      0.407561\n",
      "path     0.352119\n",
      "falls    0.297157\n",
      "base     0.275294\n",
      "area     0.223578\n",
      "nice     0.212982\n",
      "stop     0.169405\n",
      "Name: topic_7, dtype: float64\n",
      "['It is a great short and easy walk to see the lower fall.  Lots of people, but the walk is beautiful and serence.'\n",
      " 'The lower falls trail was a very easy walk and easy to get to. They were impressive to us, and when you walked across the bridge, the breeze and waterfall spit felt so good during a heat wave. The rocks in the water in the area were also fun to walk around on.'\n",
      " 'We did do this walk, the start is easy to do. Because of that we did walk in a caravan of people. The second loop is more hard to walk and that is where it gets interesting and beautiful. '\n",
      " 'This waterfall is definately worth the walk. very easy walk to lower falls.  Just for the amazing view and ferocious roar.'\n",
      " 'Once again; in summer: GET THERE EARLY! That means that if you want an experience that you would describe as \"nice\" you will have to be walking at about 07:30. If you get up to Vernall Falls and walk back along the John Muit trail be carefull not to miss the this trail. When you are on top of the Vernall falls you walk further up but when you come across a bridge you have gone to far. We forgot to take a map so walked up further. Eventually we ended up walking all the way to the top of Nevada falls! Ended up walking for 6,5 hours, almost 14km, 600m up and 600m downhill.']\n"
     ]
    }
   ],
   "source": [
    "topic = 7\n",
    "n_reviews = 5\n",
    "n_words = 10\n",
    "\n",
    "print(top_words(word_matrix, topic, n_words))\n",
    "print(top_reviews(topic_matrix, topic, n_reviews))\n",
    "topics_list.append('Walking Advice')"
   ]
  },
  {
   "cell_type": "markdown",
   "metadata": {},
   "source": [
    "**Topic 8 - Spectacular Views Advice**  \n",
    "In particular, "
   ]
  },
  {
   "cell_type": "code",
   "execution_count": 141,
   "metadata": {},
   "outputs": [
    {
     "name": "stdout",
     "output_type": "stream",
     "text": [
      "good       2.699714\n",
      "make       1.471864\n",
      "sure       0.924108\n",
      "view       0.591026\n",
      "shoe       0.262313\n",
      "stop       0.211635\n",
      "way        0.204824\n",
      "picture    0.194596\n",
      "want       0.183415\n",
      "thing      0.177757\n",
      "Name: topic_8, dtype: float64\n",
      "['From here you can see everything! Best views ever! You can also hike to/from here or drive to/from here.'\n",
      " \"It's a good hike to the bridge. The upwards path is good to walk. It's moderated but with a few stops to watch the beautiful views, we made it. Loved it!\"\n",
      " 'Beautiful falls, make sure you make the trip to see this and bring a walking stick and good hiking boots.'\n",
      " 'This is a good start to Yosemite! Make sure you have plenty of time on the way to stop and enjoy the views. When I was driving in here I knew I was getting into paradise!'\n",
      " 'Amazing holiday with the most spectacular views. If you are in the valley, drive to get a good view of the Falls and get a pic of the valley from good distance back with you in it. Make sure to drive as much of the valley as you can, July was a good time, but I would imagine earlier in the year would be better in terms of water pressure.']\n"
     ]
    }
   ],
   "source": [
    "topic = 8\n",
    "n_reviews = 5\n",
    "n_words = 10\n",
    "\n",
    "print(top_words(word_matrix, topic, n_words))\n",
    "print(top_reviews(topic_matrix, topic, n_reviews))\n",
    "topics_list.append('Spectacular Views Advice')"
   ]
  },
  {
   "cell_type": "markdown",
   "metadata": {},
   "source": [
    "**Topic 9 - Glacier Point Tour Bus**  \n",
    "In particular, "
   ]
  },
  {
   "cell_type": "code",
   "execution_count": 143,
   "metadata": {},
   "outputs": [
    {
     "name": "stdout",
     "output_type": "stream",
     "text": [
      "bus       1.861141\n",
      "tour      1.517727\n",
      "way       1.063025\n",
      "hour      0.802611\n",
      "trip      0.722555\n",
      "stop      0.513348\n",
      "guide     0.463620\n",
      "driver    0.429155\n",
      "lodge     0.426720\n",
      "day       0.340918\n",
      "Name: topic_9, dtype: float64\n",
      "['This bus “tour” was not a tour. If you’re traveling from out of town/state with a car rental, please do yourself a favor and save your money - Make the drive up to Glacier Point yourself! The bus “tour” was literally just a bus ride up!! Our driver was friendly and the tour “kind of” started out as a tour but all he was mentioning was the vegetation growing on the side of the road in the beginning. We also learned that a tunnel was made by men in the depression era looking to earn money for their families. That’s it. That’s all we learned, then slept the rest of the hour-plus drive up! Finally made it up and we’re given an hour to use the restroom, view, walk around, and get a snack. Since we booked the round-trip “tour” we felt this was rushed. We really began regretting not using our rental car for this experience which would have saved my family of 4 $216! The Glacier views are absolutely amazing and SO worth the trip up (on your own)! Literally a MUST SEE!!! However. The drive back was even worse. All the bus driver did was laugh and talk with the veterans that were sitting up by him, swapping stories, the whole way back....! Not one mention of the Park. I’m glad I paid for the gas to get us up there and back in a bus I guess. Unfortunately, we were not impressed by the silly tour that literally put us to sleep. It was a waste of 4 hours on the only full day we had to spend in Yosemite. We couldn’t wait to get back to our rental car and do the exploring/hiking ourselves! I’m giving it a 3 for at least being able to see the spectacular views!! For an hour :/'\n",
      " 'I booked the 8:30 am Glacier Tour shuttle one-way from Yosemite Lodge to Glacier Point. The day before the tour, I stopped by the Activities desk in the Lodge, and it turns out the confirmation email you get when booking on-line won’t get you on the shuttle- instead, you have to pick up actual tickets at the Activities desk. Well, hey, maybe that’s something they should have mentioned in the confirmation email… They also said that we should show up about 10 minutes early, and line up under the awning outside the lobby.At 8:30 am, the crowd outside the Lodge was asked to form two lines for the two buses- one for the round-trip tour and one for the one-way tour. The round-trip bus loads first. Note that neither of the two buses makes any stops on the way to Glacier Point and they arrive at about the same time, so it doesn’t matter which bus you take up there if you’re going one-way.We had Bill as our bus driver and tour guide, and he was pretty interesting and funny overall, careful to slow the bus at interesting view points and remind us to scan for wildlife. We arrived at 10:07 am. Since we planned to hike down to Yosemite Valley, we only spent about a half hour at Glacier Point, but the views of Half Dome and Yosemite Valley from up there were amazing. In particular, it was crazy to see both Nevada and Vernal Falls from so far off, and realize that we would be hiking down alongside them in only a few hours. Be sure to walk to the actual Glacier Point for the best views.Tips: Heading up, try to sit on the right side of the bus- the views are better. Be sure to trade in your shuttle confirmation email for tickets. Also, as of mid-June the bathrooms at Glacier Point were closed due to plumbing problems- replaced with temporaries, I believe.'\n",
      " 'Absolutely breathtaking!  I highly recommend the bus tour up and either hike or bus back down.  It will depend on how much time you have.  The guide was extremely knowledgable and educates you all the way up and down!  Our guide was Bill and he has been doing the tour for 25 years.'\n",
      " \"We took the 4 hour Glacier Point Bus Tour we had learned about from the Yosemite web site. We chose the one starting at 8:30 considering it gets more crowed in the afternoon.  Tickets are retrieved at the Yosemite Valley Lodge Tour Desk at least 15 minutes prior to your tour departure time.  The bus pulls up right in front of Yosemite Valley Lodge and the line starts forming early.  You see El Capitan, Bridalveil Fall, Half Dome, and Yosemite Falls in Yosemite Valley.  The bus stops at Tunnel View and Glacier Point.Our tour guide was Bill Fontana who had many years of experience.  He was a great guide telling stories of Yosemite's history and incredibly knowledgeable about the park.  We spent an hour on Glacier Point which gave incredible views of the entire valley.  There were bathrooms at Glacier Point and a wheelchair accessible trail.This was a great place to take in the views of Half Dome.  On the way back to Yosemite Village we stopped and got out at Tunnel View.  There are so many beautiful spots and Tunnel View is spectacular. We also stopped at a spot in the valley for pictures of Half Dome and Bridalveil Fall.More than half of the people on the bus took the challenging 4 mile trail back to Yosemite Valley choosing to hike rather than taking the bus back.  If you choose this option it is a lessor fee than the full tour.The bus was a regular bus with padded seats and a restroom at the rear. One person in our party has limited mobility.  She was able to climb the stairs of the bus and the wheel chair was stowed in the luggage compartment below.  If she could not have used the bus steps she had the option when making the reservation to let them know she would need a bus with a wheel chair lift.\"\n",
      " 'We took a tour that started at the Yosemite Valley Lodge to Glacier Point. The tour was 4 hours long and we were in a large bus. Our guide, Stephanie, was excellent. She suggested that everyone stay in their same seats throughout the tour so that you can catch sight of locations coming and going. Glacier Point was spectacular and we had close to one hour to enjoy ourselves for pictures and viewing. You can take a one way tour and walk 4 miles back to the lodge. You are going downhill. The bus ride up to Glacier Point encompasses lots of \"S\" turns----and narrow roads. It was nice to have someone else driving, it be able to sit back and enjoy lots of information about Yosemite and how it is protected as a gorgeous National Park. We did see the remains of the Ferguson Fire, too.']\n"
     ]
    }
   ],
   "source": [
    "topic = 9\n",
    "n_reviews = 5\n",
    "n_words = 10\n",
    "\n",
    "print(top_words(word_matrix, topic, n_words))\n",
    "print(top_reviews(topic_matrix, topic, n_reviews))\n",
    "topics_list.append('Glacier Point Tour Bus')"
   ]
  },
  {
   "cell_type": "markdown",
   "metadata": {},
   "source": [
    "**Topic 10 - Great Views**  \n",
    "In particular, "
   ]
  },
  {
   "cell_type": "code",
   "execution_count": 145,
   "metadata": {},
   "outputs": [
    {
     "name": "stdout",
     "output_type": "stream",
     "text": [
      "great          2.844411\n",
      "view           0.803425\n",
      "photo          0.321877\n",
      "opportunity    0.197631\n",
      "waterfall      0.166340\n",
      "really         0.166091\n",
      "awesome        0.138772\n",
      "enjoy          0.130102\n",
      "fun            0.122655\n",
      "experience     0.113691\n",
      "Name: topic_10, dtype: float64\n",
      "['so many great views from one of the most beautiful place in the park, you can take a great tour bus up to the point for a great day of exploring or a great day hike. small store  and great views.'\n",
      " 'It is a great hike to get to the top, steep in places. Great view at the top! Yosemite is just beautiful and it felt great to be at the top!'\n",
      " 'Great for hiking - great views of the falls - there are 2 trails - lower and upper - upper one is much longer and stepper - great views as you hike up as well as down.'\n",
      " 'It was great to see this fall, the view was great, it amazing how the water fall comes all the way from the top of mountain.'\n",
      " 'Took the shuttle here in the morning, and hiked down the panorama view trail from there. Great views, but you see even more great views if you do the hike.']\n"
     ]
    }
   ],
   "source": [
    "topic = 10\n",
    "n_reviews = 5\n",
    "n_words = 10\n",
    "\n",
    "print(top_words(word_matrix, topic, n_words))\n",
    "print(top_reviews(topic_matrix, topic, n_reviews))\n",
    "topics_list.append('Great Views')"
   ]
  },
  {
   "cell_type": "markdown",
   "metadata": {},
   "source": [
    "**Topic 11 - Avoiding Crowds**  \n",
    "In particular, going early to avoid crowds"
   ]
  },
  {
   "cell_type": "code",
   "execution_count": 146,
   "metadata": {},
   "outputs": [
    {
     "name": "stdout",
     "output_type": "stream",
     "text": [
      "early      1.214052\n",
      "lot        1.053028\n",
      "parking    1.009307\n",
      "crowd      0.936029\n",
      "people     0.699065\n",
      "day        0.492930\n",
      "morning    0.436918\n",
      "avoid      0.353899\n",
      "spot       0.347497\n",
      "busy       0.305085\n",
      "Name: topic_11, dtype: float64\n",
      "['While not as crowded as the Yosemite valley, this area is also popular with anyone visiting the park. It is a beautiful area but arrive early because once the parking lot fills up you will have to be shuttled in to the area. We arrived by 9 AM and had no problems with parking. After returning from our 5 hour hike, the parking lot was full. There are a lot of people who just walk around the point, but if you can hike some, you can get away from the crowds and really see some stunning vistas. '\n",
      " 'This is a beautiful place!  You will want to take photos & also just sit and look at the view for a while.  It can get crowded, so go early. There is a free shuttle bus that will take you there (from a lower parking lot), if the parking is full at the site.  '\n",
      " 'Beautiful views of the Yosemite Valley and falls.  Get here early for the best parking and eliminate the crowds...'\n",
      " 'As usual, parking at Glacier Point is not easy. Folks stop at the entrance to the lot and wait for a close parking space.  At 11 am, it took 7 or 8 minutes to get a chance to drive around the parking lot to the upper level where there were several spots available.No one was waiting to use an outhouse at the far end of the parking lot. The facilities closer to the parking lot entrance had a line of at least eight people. Views of Half Dome from Glacier Point were excellent, as always.'\n",
      " 'Amazing views - recommend arriving early as parking is a problem. Also, when you arrive early, it is easier to take a picture without having lots of people photo bomb your picture.  It is beautiful and it is definitely a must see in Yosemite.  ']\n"
     ]
    }
   ],
   "source": [
    "topic = 11\n",
    "n_reviews = 5\n",
    "n_words = 10\n",
    "\n",
    "print(top_words(word_matrix, topic, n_words))\n",
    "print(top_reviews(topic_matrix, topic, n_reviews))\n",
    "topics_list.append('Avoiding Crowds')"
   ]
  },
  {
   "cell_type": "markdown",
   "metadata": {},
   "source": [
    "**Topic 12 - Park Views at Glacier Point**  \n",
    "In particular, "
   ]
  },
  {
   "cell_type": "code",
   "execution_count": 147,
   "metadata": {},
   "outputs": [
    {
     "name": "stdout",
     "output_type": "stream",
     "text": [
      "park        2.454173\n",
      "national    1.131551\n",
      "yosemite    0.566789\n",
      "visit       0.374167\n",
      "car         0.240969\n",
      "day         0.186807\n",
      "enter       0.148528\n",
      "entrance    0.113467\n",
      "area        0.101283\n",
      "really      0.093202\n",
      "Name: topic_12, dtype: float64\n",
      "['This is a very beautiful point in the Yosemite National Park. There is so much to see in there. We really enjoyed everything about Yosemite National Park.'\n",
      " 'Magnificent views over Yosemite national park. A 35 mile drive from the entrance to the park but what a view. A must when visiting.'\n",
      " 'So if you can only choose one National Park to visit, make it Yosemite National Park! We went to Glacier Point first, and had an amazing view. Then we drove into the valley and parked.  We took the shuttles around and so enjoyed our visit looking back UP at Glacier Paint! So worth the trip!'\n",
      " 'Yosemite National Park is probably the best walking and hiking park in the 48 states.  We were their Sept. 10th through the 12th,  There were probably a hundred thousand or more in the park, but the park is so massive that it did not seem crowed. Their are extreme trails and moderate trails. This is a must see park. Not a park that you ride around in like Yellowstone but, worth the trip.'\n",
      " 'You absolutely must go to Yosemite National Park, and Glacier Pint is a must-see! The rock formation is just another example of the stunning beauty within the national park!!']\n"
     ]
    }
   ],
   "source": [
    "topic = 12\n",
    "n_reviews = 5\n",
    "n_words = 10\n",
    "\n",
    "print(top_words(word_matrix, topic, n_words))\n",
    "print(top_reviews(topic_matrix, topic, n_reviews))\n",
    "topics_list.append('Park Views')"
   ]
  },
  {
   "cell_type": "markdown",
   "metadata": {},
   "source": [
    "**Topic 13 - Glacier Point & Half Dome**  \n",
    "In particular, "
   ]
  },
  {
   "cell_type": "code",
   "execution_count": 148,
   "metadata": {},
   "outputs": [
    {
     "name": "stdout",
     "output_type": "stream",
     "text": [
      "dome        2.599603\n",
      "half        2.380788\n",
      "view        0.373621\n",
      "sentinel    0.368072\n",
      "sunset      0.363992\n",
      "valley      0.200943\n",
      "nevada      0.188680\n",
      "vernal      0.150728\n",
      "mile        0.114453\n",
      "village     0.107808\n",
      "Name: topic_13, dtype: float64\n",
      "['This trail is a bit off the path of the half dome hike and worth doing because it mixes up the scenery of the half dome hike. '\n",
      " 'Glacier Point give you a small taste of what you see from the top of Half Dome. There are also a few hiking trails that go to Half Dome or to the valley floor.'\n",
      " 'The best view of the valley and Half dome. No one should miss this view, must visit. I have seen the half dome from this point multiple times. This is spectacular.'\n",
      " 'After climbing the Half Dome we took a rest day to go to glacier point. It has a different view of the half dome. It is very popular and you can drive to it. '\n",
      " 'Went to Glacier Point vista point to look over the Yosemite Valley below. You can see Half Dome, El Capitan, and all the snow peaked domes in the area. You can even see all the hikers on the trail to Half Dome.']\n"
     ]
    }
   ],
   "source": [
    "topic = 13\n",
    "n_reviews = 5\n",
    "n_words = 10\n",
    "\n",
    "print(top_words(word_matrix, topic, n_words))\n",
    "print(top_reviews(topic_matrix, topic, n_reviews))\n",
    "topics_list.append('Glacier Point & Half Dome')"
   ]
  },
  {
   "cell_type": "markdown",
   "metadata": {},
   "source": [
    "**Topic 14 - Great Place to Visit**  \n",
    "In particular, "
   ]
  },
  {
   "cell_type": "code",
   "execution_count": 150,
   "metadata": {},
   "outputs": [
    {
     "name": "stdout",
     "output_type": "stream",
     "text": [
      "place        2.522541\n",
      "stop         0.263389\n",
      "picture      0.249302\n",
      "amazing      0.236545\n",
      "visit        0.188744\n",
      "wonderful    0.183549\n",
      "just         0.164362\n",
      "look         0.131450\n",
      "love         0.130796\n",
      "feel         0.126871\n",
      "Name: topic_14, dtype: float64\n",
      "['Need car to ger there, but is a amazing place. The road is beatiful, the place has a  impressive view. '\n",
      " 'I was here in May 2014 and this place is on my short list of places that I really wanted to visit.  It was well worth the trip'\n",
      " 'If you can only check out one place in Yosemite, this is the place. Great views of the valley and surrounding area.'\n",
      " 'Amazing place, the falls and the surrounding valley were just gorgeous, we all loved the place and wish to go there again.'\n",
      " \"Really great place to visitIt's wonderful place to see a national park Visited in summer with family elders\"]\n"
     ]
    }
   ],
   "source": [
    "topic = 14\n",
    "n_reviews = 5\n",
    "n_words = 10\n",
    "\n",
    "print(top_words(word_matrix, topic, n_words))\n",
    "print(top_reviews(topic_matrix, topic, n_reviews))\n",
    "topics_list.append('Great Place to Visit')"
   ]
  },
  {
   "cell_type": "markdown",
   "metadata": {},
   "source": [
    "**Topic 15 - Yosemite Valley**  \n",
    "In particular, views of YV from Glaicer Point"
   ]
  },
  {
   "cell_type": "code",
   "execution_count": 151,
   "metadata": {},
   "outputs": [
    {
     "name": "stdout",
     "output_type": "stream",
     "text": [
      "beautiful     2.786377\n",
      "waterfall     1.030220\n",
      "scenery       0.239625\n",
      "just          0.162149\n",
      "mountain      0.144631\n",
      "quite         0.143381\n",
      "close         0.131037\n",
      "enjoy         0.113788\n",
      "absolutely    0.102021\n",
      "rainbow       0.092209\n",
      "Name: topic_15, dtype: float64\n",
      "['Perhaps the most beautiful, although a bit stressful drive ever.  The further you go the more beautiful it gets.  '\n",
      " \"Such a beautiful mountain! It's mass almost can't be described by words. It is a beautiful thing to see!! \"\n",
      " 'These waterfalls are so beautiful they do not look real.  It is a beautiful postcard that is actually real.  One of the most beautiful scenes of the Yosemite National Park.'\n",
      " 'Beautiful falls, there are many falls in Yosemite National Park.  They all are beautiful against the backdrop of the surrounding scenery.'\n",
      " 'All the falls were beautiful since we were there in the spring.']\n"
     ]
    }
   ],
   "source": [
    "topic = 15\n",
    "n_reviews = 5\n",
    "n_words = 10\n",
    "\n",
    "print(top_words(word_matrix, topic, n_words))\n",
    "print(top_reviews(topic_matrix, topic, n_reviews))\n",
    "topics_list.append('Yosemite Valley')"
   ]
  },
  {
   "cell_type": "markdown",
   "metadata": {},
   "source": [
    "**Topic 3 - Amazing Drives**  \n",
    "In particular, "
   ]
  },
  {
   "cell_type": "code",
   "execution_count": 152,
   "metadata": {},
   "outputs": [
    {
     "name": "stdout",
     "output_type": "stream",
     "text": [
      "drive          1.796311\n",
      "worth          1.393934\n",
      "view           1.225510\n",
      "amazing        0.989893\n",
      "long           0.343270\n",
      "bit            0.270477\n",
      "spectacular    0.268113\n",
      "definitely     0.262829\n",
      "stunning       0.198342\n",
      "effort         0.188688\n",
      "Name: topic_16, dtype: float64\n",
      "['The drive up is long, but not very difficult.  It is worth the drive.  The view is absolutely amazing and a must do in Yosemite!'\n",
      " 'Amazing views of the valley from here. The road to get here is a bit difficult to drive, but well worth it.'\n",
      " 'Amazing view, but very long drive from anywhere that make it really difficult to visit - but worth it'\n",
      " 'Worth the trip up there, views are amazing! Drive up there a little scary, but worth the trip. Can see the valley below, great view.'\n",
      " 'Worth the drive or walk if you are feeling energetic. Amazing views over the mountains and down in to Yosemite valley ']\n"
     ]
    }
   ],
   "source": [
    "topic = 16\n",
    "n_reviews = 5\n",
    "n_words = 10\n",
    "\n",
    "print(top_words(word_matrix, topic, n_words))\n",
    "print(top_reviews(topic_matrix, topic, n_reviews))\n",
    "# topics_list.append('Yosemite Falls')"
   ]
  },
  {
   "cell_type": "markdown",
   "metadata": {},
   "source": [
    "**Topic 3 -   d**  \n",
    "In particular, "
   ]
  },
  {
   "cell_type": "code",
   "execution_count": 154,
   "metadata": {},
   "outputs": [
    {
     "name": "stdout",
     "output_type": "stream",
     "text": [
      "water     2.791421\n",
      "flow      0.686396\n",
      "bring     0.551703\n",
      "dry       0.419291\n",
      "spring    0.398956\n",
      "summer    0.371455\n",
      "falls     0.310565\n",
      "lot       0.263514\n",
      "year      0.263055\n",
      "plenty    0.260173\n",
      "Name: topic_17, dtype: float64\n",
      "['A waterfall with almost no water is always a bit disappointing.  nonetheless, without water one sees the marvelous sculpturing of the boulders beneath and treasures the water flow that is, while missing that which is not.'\n",
      " 'It was definitely worth the walk to see the base of the falls even tho there was no water. You could see the outline of where the water would have been and just imagine what it would have been like with water flowing although it was sad to see the empty stream bed.'\n",
      " 'Water was at a trickle but a great hike nonetheless.  Want to revisit in the spring when more water is flowing.  '\n",
      " 'This water was ragging down the apron into the pool. I had been there in Sept. and walked across the apron. Very dangerous. Slipping hazard and cold water. Imagine being so close to the top of a water fall. Hope they never move the fence. Stay out of the water. '\n",
      " 'There is little water flowing and it was still a fabulous hike.  There is a lot of elevation over the 2 miles, and near the falls there are stone steps to walk up to the falls.  It is well worth the trip.  Bring water.  There is water and bathrooms along the trail.  In the late afternoon there are often beautiful rainbows across the water.  ']\n"
     ]
    }
   ],
   "source": [
    "topic = 17\n",
    "n_reviews = 5\n",
    "n_words = 10\n",
    "\n",
    "print(top_words(word_matrix, topic, n_words))\n",
    "print(top_reviews(topic_matrix, topic, n_reviews))\n",
    "# topics_list.append('Yosemite Falls')"
   ]
  },
  {
   "cell_type": "markdown",
   "metadata": {},
   "source": [
    "**Topic 3 - **  \n",
    "In particular, "
   ]
  },
  {
   "cell_type": "code",
   "execution_count": 155,
   "metadata": {},
   "outputs": [
    {
     "name": "stdout",
     "output_type": "stream",
     "text": [
      "step        1.621470\n",
      "steep       1.240736\n",
      "climb       1.161384\n",
      "wet         1.054578\n",
      "slippery    0.716176\n",
      "bridge      0.660624\n",
      "way         0.645348\n",
      "vernal      0.617462\n",
      "stair       0.543115\n",
      "fall        0.453918\n",
      "Name: topic_18, dtype: float64\n",
      "['Vernal Falls in on the first water falls on the Mist Trail.  It is considered a moderate hike to the base of the Falls but to get to the top requires hiking steep and uneven rock steps that are wet.  Having said that, climbing the steep steps is part of the fun but just be prepared to get wet!'\n",
      " \"Bottom of falls couple miles, top of falls you climb the wet steps and get wet.  I've had several companions get a little scared on those steps.  Very beautiful.  Great lunch spot.  Then keep going to Top of Nevada from there. \"\n",
      " 'The trail starts out as an easy uphill climb on a paved walkway. This leads to a bridge with a good view of Vernal Fall. After that, the trail heads on up to the waterfall. As you approach the waterfall, the trail becomes a series of steep rock steps. The steps are narrow and wet from the mist. I have been here twice, and both times the trail was very crowded. The outside of the steps is unguarded and has a steep drop to the river. With crowds of people going both ways on the wet, slick steps it is very dangerous and difficult. The mist makes it more unpleasant. The view is great - if you survive the trail.'\n",
      " \"So worth the hike, a must see!  Such beautiful views at every turn.  There are some steep steps so be careful they are always wet but don't seem to slippery.\"\n",
      " 'This is a stunning fall but those granite steps can be dangerous and slippery. You can reach this fall by climbing UP the 600 steps or by climbing down at the end of the Panorama hike.  ']\n"
     ]
    }
   ],
   "source": [
    "topic = 18\n",
    "n_reviews = 5\n",
    "n_words = 10\n",
    "\n",
    "print(top_words(word_matrix, topic, n_words))\n",
    "print(top_reviews(topic_matrix, topic, n_reviews))\n",
    "# topics_list.append('Yosemite Falls')"
   ]
  },
  {
   "cell_type": "markdown",
   "metadata": {},
   "source": [
    "**Topic 3 -   d**  \n",
    "In particular, "
   ]
  },
  {
   "cell_type": "code",
   "execution_count": 156,
   "metadata": {},
   "outputs": [
    {
     "name": "stdout",
     "output_type": "stream",
     "text": [
      "time        2.705766\n",
      "visit       1.219578\n",
      "year        0.993329\n",
      "just        0.334905\n",
      "snow        0.326948\n",
      "spend       0.261969\n",
      "enjoy       0.241749\n",
      "spring      0.223032\n",
      "yosemite    0.200198\n",
      "love        0.191007\n",
      "Name: topic_19, dtype: float64\n",
      "['Try going in the winter time. The view is spectacular any time of year. There are few visitors, so you spend less time navigating and more time sight seeing.'\n",
      " 'Every time I visit Glacier Point, it is like I am visiting it for the first time. The views are breathtaking. There is so much to take in from every angle. The drive up can be a little nerve wracking so make sure you take your time and enjoy.'\n",
      " 'Last time we were not able to visit as it was too early in the year, this time it was open. It is amazing to see Yosemite from a high viewpoint. Hairy drive to get there but well worth it.'\n",
      " 'This was one of the most beautiful places that I have ever visited, and I have visited a few. Well worth the visit, time, and money.'\n",
      " \"The best time to go would be around May because after that the Falls will run weaker. You can see it from the Valley and it's like your greetings card from Yosemite! Spend some time and go for a hike!\"]\n"
     ]
    }
   ],
   "source": [
    "topic = 19\n",
    "n_reviews = 5\n",
    "n_words = 10\n",
    "\n",
    "print(top_words(word_matrix, topic, n_words))\n",
    "print(top_reviews(topic_matrix, topic, n_reviews))\n",
    "# topics_list.append('Yosemite Falls')"
   ]
  },
  {
   "cell_type": "markdown",
   "metadata": {},
   "source": [
    "**Topic 3 -   d**  \n",
    "In particular, "
   ]
  },
  {
   "cell_type": "code",
   "execution_count": 122,
   "metadata": {},
   "outputs": [
    {
     "name": "stdout",
     "output_type": "stream",
     "text": [
      "vernal        3.823835\n",
      "nevada        2.738232\n",
      "muir          0.854241\n",
      "john          0.790360\n",
      "fall          0.608544\n",
      "continue      0.511172\n",
      "mist          0.395145\n",
      "past          0.319611\n",
      "footbridge    0.318717\n",
      "happy         0.259316\n",
      "Name: topic_20, dtype: float64\n",
      "['Vernal Fall is the closer of two with Nevada being further.  If you are looking for adventure and are in good shape, then do the Nevada Falls hike.  We took the John Muir trail to Nevada and it was beautiful!!  Then on our way back, we hit the Vernal Fall trail and immediately were immersed in wall to wall people.  Yikes, the Nevada and John Muir trails were almost empty compared to the cattle herding on Vernal.  But, it is a good hike for the elderly and people with small children.  Go early...as in before 9am.'\n",
      " 'The proximity to half dome, and the view of Nevada and Vernal Falls below, make this a must see at Yosemite. '\n",
      " 'To hike to the top of vernal falls is wet and worth every step.  If you are up to it go all the up to Nevada Falls first and work your way down to Vernal Falls'\n",
      " 'Vernal falls is the first water fall you will see on the Happy Isles trail.  Just a twenty minute uphill walk will take you to the bridge to see Vernal Falls.  Continue up the Mist trail to the tops Vernal Falls.  Lots of steps and you may get wet.  Continue on to Nevada falls...another hour from the top of Vernal.  Then on to Half Dome it you made a reservation.  Take the John Muir Trail back down for more great views of the water falls, Clouds Rest, and even Yosemite falls.  I recommend to take a sack lunch and have it at Nevada falls.  Enjoy!'\n",
      " \"The Mist trail from Happy Isles up to Vernal Falls is probably the best trail I've hiked. It was so much fun! The section up the steps with Vernal Falls in front of you is amazing. Be warned though that the trail is steep and you will get wet - make sure to bring a rain coat and pants or a poncho. I hiked it in May after record snowfall so it was flowing high/wide. Such cool views of the falls and the climb was fun, saw a few rainbows too. We then continued up to Nevada Falls, which has spectacular views of the valley. The hike from Vernal to Nevada is pretty brutal and you're up toward altitude - top of Nevada is roughly 6000' elevation but the views at the top are worth it. Can't recommend this hike more.Whether you go to Vernal or Nevada, take the John Muir trail down so as not to be going against traffic on the wet misty steps.\"]\n"
     ]
    }
   ],
   "source": [
    "topic = 20\n",
    "n_reviews = 5\n",
    "n_words = 10\n",
    "\n",
    "print(top_words(word_matrix, topic, n_words))\n",
    "print(top_reviews(topic_matrix, topic, n_reviews))\n",
    "# topics_list.append('Yosemite Falls')"
   ]
  },
  {
   "cell_type": "code",
   "execution_count": null,
   "metadata": {},
   "outputs": [],
   "source": []
  },
  {
   "cell_type": "markdown",
   "metadata": {},
   "source": [
    "## Vectorizer & Topic Modeling - Round 3\n",
    "\n",
    "The cleaned corpus is used for for creating a bag of words with TF-IDF\n",
    "This will then be used for topic modeling."
   ]
  },
  {
   "cell_type": "code",
   "execution_count": 159,
   "metadata": {},
   "outputs": [],
   "source": [
    "topics_list = []"
   ]
  },
  {
   "cell_type": "code",
   "execution_count": 169,
   "metadata": {},
   "outputs": [],
   "source": [
    "additional_removal_words = ['half', 'dome', 'mist', 'glacier', 'point', 'washburn', 'yosemite', 'falls', 'lower', 'upper', 'sentinel' \\\n",
    "                           'tioga', 'pass', 'columbia', 'el', 'capitan', 'nevada', 'vernal', 'park', 'national', 'valley' , 'great',\\\n",
    "                            'amazing', 'beautiful', 'muir', 'john']"
   ]
  },
  {
   "cell_type": "code",
   "execution_count": 202,
   "metadata": {},
   "outputs": [
    {
     "data": {
      "text/html": [
       "<div>\n",
       "<style scoped>\n",
       "    .dataframe tbody tr th:only-of-type {\n",
       "        vertical-align: middle;\n",
       "    }\n",
       "\n",
       "    .dataframe tbody tr th {\n",
       "        vertical-align: top;\n",
       "    }\n",
       "\n",
       "    .dataframe thead th {\n",
       "        text-align: right;\n",
       "    }\n",
       "</style>\n",
       "<table border=\"1\" class=\"dataframe\">\n",
       "  <thead>\n",
       "    <tr style=\"text-align: right;\">\n",
       "      <th></th>\n",
       "      <th>review_text</th>\n",
       "      <th>review_final_clean</th>\n",
       "    </tr>\n",
       "  </thead>\n",
       "  <tbody>\n",
       "    <tr>\n",
       "      <th>0</th>\n",
       "      <td>Not too many ppl when we arrive at 3pm, probably because they are controlling visitor per day in national park. Smoke was not crazy today, view was okay. -Oct 16 2020</td>\n",
       "      <td>not too many ppl when arrive at pm probably because be control visitor per day in smoke be not crazy today view be okay oct</td>\n",
       "    </tr>\n",
       "    <tr>\n",
       "      <th>1</th>\n",
       "      <td>Glacier Point at about 7000 ft elevation can be reached by car, shuttle bus (but not during the pandemic) or several strenuous hikes from Yosemite Valley. Even if you can’t walk well, you still get stellar views. If you can hike several miles there are a lot of options on where to go from here. Most people enjoy the short but steep hike to the geology hut. From there you can see the Yosemite Valley floor below, Yosemite Falls in it’s entirety. From Washburn Point about 1/4 mile before you reach the Glacier Point Parking Lot, you can see the entire length of the mist trail with Vernal and Nevada Falls, and the upper 1/4 of Illilouette Fall. (Here you can get a good view of some of the Panorama Trail, which starts at Glacier Point, and goes past all 3 of these waterfalls, about 8 miles to The Valley below).The star of Glacier Point is Half Dome. It’s so large and seemingly so close it feels like you can touch it! Photo opps abound. The Four Mile Trail starts here, going to Yosemite Valley in 4.4 miles and 3,200 ft elevation loss. The first mile is more of a rim trail, and loses/gains only 250 feet. Walk to the point where the switchbacks start, and turn around to retrace your steps. It’s a mile of stellar views of Half Dome, Yosemite Falls, and the Sierra Nevada Mountains - at a fraction of the effort it takes to hike the entire trail. The road to Glacier Point is not open year round. Check road conditions before going. Wintry conditions or fire can close the road. Generally it’s open end of May through October. If it’s open during your visit, even if pressed for time, this is a must-do! Bring your lunch and sit on the steps of the amphitheater!</td>\n",
       "      <td>at about ft elevation can be reach by car shuttle bus but not during the pandemic or several strenuous hike from even if can not walk well still get stellar view if can hike several mile there be a lot of option on where to go from here most people enjoy the short but steep hike to the geology hut from there can see the floor below fall in entirety from about mile before reach the parking lot can see the entire length of the trail with and fall and the of illilouette fall here can get a good view of some of the panorama trail which start at and go past all of these waterfall about mile to the below the star of be so large and seemingly so close feel like can touch photo opps abound the four mile trail start here go to in mile and ft elevation loss the first mile be more of a rim trail and lose gain only foot walk to the where the switchback start and turn around to retrace step a mile of stellar view of fall and the sierra mountains at a fraction of the effort take to hike the entire trail the road to be not open year round check road condition before go wintry condition or fire can close the road generally open end of may through october if open during visit even if press for time this be a must do bring lunch and sit on the step of the amphitheater</td>\n",
       "    </tr>\n",
       "    <tr>\n",
       "      <th>2</th>\n",
       "      <td>The most Iconic view of the half dome, this is the placeIt's quite a big observation area with huge parking and some walking to doYou'll get the most amazing and iconic view of the Half Dome and the whole valleyTake your time and enjoy it</td>\n",
       "      <td>the most iconic view of the this be the placeit quite a big observation area with huge parking and some walk to doyoull get the most and iconic view of the and the whole valleytake time and enjoy</td>\n",
       "    </tr>\n",
       "    <tr>\n",
       "      <th>3</th>\n",
       "      <td>What an absolute breathtaking view!  Such a fun place to hang out for a few hours.  To see half dome across the way is so cool.</td>\n",
       "      <td>what an absolute breathtaking view such a fun place to hang out for a few hour to see across the way be so cool</td>\n",
       "    </tr>\n",
       "    <tr>\n",
       "      <th>4</th>\n",
       "      <td>This attraction/view will truly take your breath away!  And, it's accessible via road before you go through Tunnel View.  In fact, you may want to take the right turn at the entrance as you are driving in before proceeding further into Yosemite Valley.  Once you make the right turn, you'll drive some distance before arriving at this remarkable vista point.  For us, driving up we didn't see much traffic, even with the limited capacity during the coronavirus period.  However, once we \"arrived\" at the vista point and parked, we came upon quite a group of tourists (much like Tunnel View).  One can only imagine what it must be like during \"normal\" park periods.  We were able to find a parking spot right away.  Walking from there to the vista point is only a relatively short distance.  You'll see Half Dome standing out first, and some helpful signage along the sidewalk area, including restrooms.  Have your photography equipment ready and loaded because you will want to take many shots of this area.  Whether it's phone camera or regular camera, be prepared to take multiple shots to capture it all.  Take your time to take in the beauty and majesty of this natural wonder.  Even in mid-summer, you will find several of the falls still flowing if you look close enough.  We found both Nevada and Vernal Falls with water flowing.  That made up for missing Yosemite Falls water flowing.  You may also wish to take the walking/hiking paths that permeate the perimeter of Glacier Point.  There's a very famous vantage point that Ansel Adams made famous nearby.  This is a \"CAN'T MISS\" part of the Yosemite Park experience.  So, get up there.</td>\n",
       "      <td>this attraction view will truly take breath away and accessible via road before go through tunnel view in fact may want to take the right turn at the entrance as be drive in before proceed far into once make the right turn will drive some distance before arrive at this remarkable vista for drive up do not see much traffic even with the limited capacity during the coronavirus period however once arrive at the vista and come upon quite a group of tourist much like tunnel view one can only imagine what must be like during normal period be able to find a parking spot right away walk from there to the vista be only a relatively short distance will see stand out first and some helpful signage along the sidewalk area include restroom have photography equipment ready and loaded because will want to take many shot of this area whether phone camera or regular camera be prepared to take multiple shot to capture all take time to take in the beauty and majesty of this natural wonder even in mid summer will find several of the fall still flow if look close enough find both and fall with water flow that make up for miss fall water flow may also wish to take the walk hiking path that permeate the perimeter of there s a very famous vantage that ansel adam make famous nearby this be a can not miss part of the experience so get up there</td>\n",
       "    </tr>\n",
       "  </tbody>\n",
       "</table>\n",
       "</div>"
      ],
      "text/plain": [
       "                                                                                                                                                                                                                                                                                                                                                                                                                                                                                                                                                                                                                                                                                                                                                                                                                                                                                                                                                                                                                                                                                                                                                                                                                                                                                                                                                                                                                                                                                                                                                                                                                                                                                                                                review_text  \\\n",
       "0                                                                                                                                                                                                                                                                                                                                                                                                                                                                                                                                                                                                                                                                                                                                                                                                                                                                                                                                                                                                                                                                                                                                                                                                                                                                                                                                                                                                                                                                                                                                                                    Not too many ppl when we arrive at 3pm, probably because they are controlling visitor per day in national park. Smoke was not crazy today, view was okay. -Oct 16 2020   \n",
       "1  Glacier Point at about 7000 ft elevation can be reached by car, shuttle bus (but not during the pandemic) or several strenuous hikes from Yosemite Valley. Even if you can’t walk well, you still get stellar views. If you can hike several miles there are a lot of options on where to go from here. Most people enjoy the short but steep hike to the geology hut. From there you can see the Yosemite Valley floor below, Yosemite Falls in it’s entirety. From Washburn Point about 1/4 mile before you reach the Glacier Point Parking Lot, you can see the entire length of the mist trail with Vernal and Nevada Falls, and the upper 1/4 of Illilouette Fall. (Here you can get a good view of some of the Panorama Trail, which starts at Glacier Point, and goes past all 3 of these waterfalls, about 8 miles to The Valley below).The star of Glacier Point is Half Dome. It’s so large and seemingly so close it feels like you can touch it! Photo opps abound. The Four Mile Trail starts here, going to Yosemite Valley in 4.4 miles and 3,200 ft elevation loss. The first mile is more of a rim trail, and loses/gains only 250 feet. Walk to the point where the switchbacks start, and turn around to retrace your steps. It’s a mile of stellar views of Half Dome, Yosemite Falls, and the Sierra Nevada Mountains - at a fraction of the effort it takes to hike the entire trail. The road to Glacier Point is not open year round. Check road conditions before going. Wintry conditions or fire can close the road. Generally it’s open end of May through October. If it’s open during your visit, even if pressed for time, this is a must-do! Bring your lunch and sit on the steps of the amphitheater!    \n",
       "2                                                                                                                                                                                                                                                                                                                                                                                                                                                                                                                                                                                                                                                                                                                                                                                                                                                                                                                                                                                                                                                                                                                                                                                                                                                                                                                                                                                                                                                                                           The most Iconic view of the half dome, this is the placeIt's quite a big observation area with huge parking and some walking to doYou'll get the most amazing and iconic view of the Half Dome and the whole valleyTake your time and enjoy it    \n",
       "3                                                                                                                                                                                                                                                                                                                                                                                                                                                                                                                                                                                                                                                                                                                                                                                                                                                                                                                                                                                                                                                                                                                                                                                                                                                                                                                                                                                                                                                                                                                                                                                                           What an absolute breathtaking view!  Such a fun place to hang out for a few hours.  To see half dome across the way is so cool.   \n",
       "4                             This attraction/view will truly take your breath away!  And, it's accessible via road before you go through Tunnel View.  In fact, you may want to take the right turn at the entrance as you are driving in before proceeding further into Yosemite Valley.  Once you make the right turn, you'll drive some distance before arriving at this remarkable vista point.  For us, driving up we didn't see much traffic, even with the limited capacity during the coronavirus period.  However, once we \"arrived\" at the vista point and parked, we came upon quite a group of tourists (much like Tunnel View).  One can only imagine what it must be like during \"normal\" park periods.  We were able to find a parking spot right away.  Walking from there to the vista point is only a relatively short distance.  You'll see Half Dome standing out first, and some helpful signage along the sidewalk area, including restrooms.  Have your photography equipment ready and loaded because you will want to take many shots of this area.  Whether it's phone camera or regular camera, be prepared to take multiple shots to capture it all.  Take your time to take in the beauty and majesty of this natural wonder.  Even in mid-summer, you will find several of the falls still flowing if you look close enough.  We found both Nevada and Vernal Falls with water flowing.  That made up for missing Yosemite Falls water flowing.  You may also wish to take the walking/hiking paths that permeate the perimeter of Glacier Point.  There's a very famous vantage point that Ansel Adams made famous nearby.  This is a \"CAN'T MISS\" part of the Yosemite Park experience.  So, get up there.   \n",
       "\n",
       "                                                                                                                                                                                                                                                                                                                                                                                                                                                                                                                                                                                                                                                                                                                                                                                                                                                                                                                                                                                                                                                                                                                                                                                                                                                                                                                                                                            review_final_clean  \n",
       "0                                                                                                                                                                                                                                                                                                                                                                                                                                                                                                                                                                                                                                                                                                                                                                                                                                                                                                                                                                                                                                                                                                                                                                                                                                                                  not too many ppl when arrive at pm probably because be control visitor per day in smoke be not crazy today view be okay oct  \n",
       "1                                                                       at about ft elevation can be reach by car shuttle bus but not during the pandemic or several strenuous hike from even if can not walk well still get stellar view if can hike several mile there be a lot of option on where to go from here most people enjoy the short but steep hike to the geology hut from there can see the floor below fall in entirety from about mile before reach the parking lot can see the entire length of the trail with and fall and the of illilouette fall here can get a good view of some of the panorama trail which start at and go past all of these waterfall about mile to the below the star of be so large and seemingly so close feel like can touch photo opps abound the four mile trail start here go to in mile and ft elevation loss the first mile be more of a rim trail and lose gain only foot walk to the where the switchback start and turn around to retrace step a mile of stellar view of fall and the sierra mountains at a fraction of the effort take to hike the entire trail the road to be not open year round check road condition before go wintry condition or fire can close the road generally open end of may through october if open during visit even if press for time this be a must do bring lunch and sit on the step of the amphitheater  \n",
       "2                                                                                                                                                                                                                                                                                                                                                                                                                                                                                                                                                                                                                                                                                                                                                                                                                                                                                                                                                                                                                                                                                                                                                                                          the most iconic view of the this be the placeit quite a big observation area with huge parking and some walk to doyoull get the most and iconic view of the and the whole valleytake time and enjoy  \n",
       "3                                                                                                                                                                                                                                                                                                                                                                                                                                                                                                                                                                                                                                                                                                                                                                                                                                                                                                                                                                                                                                                                                                                                                                                                                                                                              what an absolute breathtaking view such a fun place to hang out for a few hour to see across the way be so cool  \n",
       "4  this attraction view will truly take breath away and accessible via road before go through tunnel view in fact may want to take the right turn at the entrance as be drive in before proceed far into once make the right turn will drive some distance before arrive at this remarkable vista for drive up do not see much traffic even with the limited capacity during the coronavirus period however once arrive at the vista and come upon quite a group of tourist much like tunnel view one can only imagine what must be like during normal period be able to find a parking spot right away walk from there to the vista be only a relatively short distance will see stand out first and some helpful signage along the sidewalk area include restroom have photography equipment ready and loaded because will want to take many shot of this area whether phone camera or regular camera be prepared to take multiple shot to capture all take time to take in the beauty and majesty of this natural wonder even in mid summer will find several of the fall still flow if look close enough find both and fall with water flow that make up for miss fall water flow may also wish to take the walk hiking path that permeate the perimeter of there s a very famous vantage that ansel adam make famous nearby this be a can not miss part of the experience so get up there  "
      ]
     },
     "execution_count": 202,
     "metadata": {},
     "output_type": "execute_result"
    }
   ],
   "source": [
    "df['review_final_clean'] = df.review_lemma.apply(lambda x: remove_stopwords(x, remove_words_list = additional_removal_words))\n",
    "df[['review_text','review_final_clean']].head()"
   ]
  },
  {
   "cell_type": "code",
   "execution_count": 211,
   "metadata": {},
   "outputs": [],
   "source": [
    "df.to_csv(\"Reviews_cleaned_for_NLP_v2.csv\", index=False)"
   ]
  },
  {
   "cell_type": "code",
   "execution_count": 203,
   "metadata": {},
   "outputs": [],
   "source": [
    "# stop_words = ENGLISH_STOP_WORDS.union(additional_removal_words)\n",
    "\n",
    "tfidf = TfidfVectorizer(stop_words='english', min_df = 20, max_df = 0.5)\n",
    "review_word_matrix = tfidf.fit_transform(df['review_lemma'])\n",
    "review_vocab = tfidf.get_feature_names()\n"
   ]
  },
  {
   "cell_type": "code",
   "execution_count": 204,
   "metadata": {},
   "outputs": [],
   "source": [
    "nmf_model, err, topic_matrix, word_matrix = nmf_topic_modeling(review_word_matrix, vocab = review_vocab, n = 20)\n",
    "topic_matrix[['raw_review','review_cleanned']] = df[['review_text','review_lemma']]"
   ]
  },
  {
   "cell_type": "markdown",
   "metadata": {},
   "source": [
    "Let's start exploring the topics that were generated using NMF for upto 50 topics"
   ]
  },
  {
   "cell_type": "markdown",
   "metadata": {},
   "source": [
    "#### Topic 0 - Risky Trails\n",
    "In particular, hiking at Mist Trail"
   ]
  },
  {
   "cell_type": "code",
   "execution_count": 205,
   "metadata": {},
   "outputs": [
    {
     "name": "stdout",
     "output_type": "stream",
     "text": [
      "trail       4.774094\n",
      "mist        1.985122\n",
      "nevada      1.096913\n",
      "vernal      1.095902\n",
      "muir        1.067449\n",
      "john        0.949117\n",
      "falls       0.501973\n",
      "mile        0.435668\n",
      "continue    0.331258\n",
      "fall        0.317597\n",
      "Name: topic_0, dtype: float64\n",
      "['I have been through this Trail twice.  First time was in June 2008 on the way to Half Dome and as the fall was in full blast, it was not a \"mist\" trail, it was more like a \"freaking thunderstorming turning over a bucket\" trail.  This time around I came down the mist trail on the Panorama Trail and as it was August, I barely got misted.  This is a pretty spectacular trail and a relatively short hike from Happy Isles (2 miles to the top or Vernal Fall or something like that).  It\\'s worth a hike up to the top, but use the mist trail, not the John Muir trail.  '\n",
      " 'Do not sleep in.  We were on the Mist Trail by 7:30 a.m.  We also walked up to Nevada Fall and came back down the John Muir Trail.  There were not crowds until about 11:00 a.m.'\n",
      " \"The mist trail is a very strenuous hike but worth it.  If you don't think you can do it, then there's always the John Muir trail to the top of Nevada Falls.  The John Muir trail is easier but still pretty difficult.  We hiked to the top of the Nevada Falls via the Mist trail but hiked back down via the John Muir trail.\"\n",
      " \"We visited Yosemite for four days and had entered the lottery to climb Half Dome. I was pretty disappointed when we didn't get it, but what ya gonna do? We wanted to do a long hike and decided on the Mist Trail to the Panorama Trail to Glacier Point, and then back down to the valley via Four Mile Trail. Mist Trail was AWESOME! And the mist is no joke...you get soaked! We had raincoats, and I was glad we did to protect my camera. Besides the amazing experience of climbing up (a lot of the trail is steep stairs) through the mist and seeing the beautiful Vernal and Nevada Falls, there were rainbows in the canyon, so close that if they had been tangible, we could have touched them. It was truly magical. While we went on to the Panorama and Four Mile trail, which was almost 14 miles, if you just do the Mist Trail and want to come back down, I would recommend descending on the John Muir Trail, which is to the right of the Mist Trail. The Mist Trail is very steep and slippery and I would imagine difficult to descend. IMO, this is one hike not to be missed!\"\n",
      " 'We went up the Mist trail all the way to the top .... W o W !']\n"
     ]
    }
   ],
   "source": [
    "topic = 0\n",
    "n_reviews = 5\n",
    "n_words = 10\n",
    "\n",
    "print(top_words(word_matrix, topic, n_words))\n",
    "print(top_reviews(topic_matrix, topic, n_reviews))\n",
    "topics_list.append('Mist Trail')"
   ]
  },
  {
   "cell_type": "markdown",
   "metadata": {},
   "source": [
    "#### Topic 1 - 'Scenic Drives'\n",
    "In particular, the views at Glacier Point"
   ]
  },
  {
   "cell_type": "code",
   "execution_count": 206,
   "metadata": {},
   "outputs": [
    {
     "name": "stdout",
     "output_type": "stream",
     "text": [
      "point       2.259623\n",
      "glacier     1.961676\n",
      "bus         0.344989\n",
      "road        0.302407\n",
      "tour        0.287982\n",
      "mile        0.177383\n",
      "sentinel    0.155408\n",
      "way         0.140937\n",
      "shuttle     0.135141\n",
      "day         0.132549\n",
      "Name: topic_1, dtype: float64\n",
      "[\"we saw this fall when we went to the Glacier point, it's already very beautiful when we saw in the in Glacier point, you can also see it at the Washburn point (which is a spot on the Glacier point road), there is a trail leading to the falls, you may do it if you have time.\"\n",
      " \"We spent the day hiking around Glacier Point.  The Point itself is the one place up the Glacier Point road that you don't have to do a long hike to get to.  It is a relatively short walk to the Point and to the reward of a fabulous view.   Amazingly it was not crowded at around 10 am on a Monday.  There are a number of vantage points to enjoy the view.  Definitely take the time to get a different view of Yosemite and the valley.  There are bathrooms in the parking lot.You can hike to Sentinel Dome from Glacier point.  We chose to drive down to the Taft Point / Sentinel Dome Trail head to hike to Sentinel Point and then Taft Point.  It is a but longer of a hike to Sentinel Dome from the Taft Point trail head than from Glacier point but supposedly not as steep.  The drive to Glacier Point from the valley is about an hour (30 miles).  There is no free shuttle to the point only a pay for tour.\"\n",
      " 'WOW! The views from Glacier Point are outstanding. The park is amazing! Must see! I would recommend a one way bus pass to Glacier point, then hike down Glacier point (4 miles). The views are breath taking!'\n",
      " 'It is a bit of a ride to get to Glacier point. It took us almost two hours to get to glacier point from the valley. Besides the long trip you most likely stop a few times to see the beautiful sightseeing. Glacier point is beatiful and offers great views.'\n",
      " \"Visited last week of September.Glacier Point is One of the best viewpoints of Yosemite Valley,it is accessible from Wawona Rd (Hwy 41) about 16Miles,1 hour drive south of the valley floor,quite a bit of a drive, but its definitely worth it for the spectacular view.Other way to reach Glacier Point, 1-you can hike the Four-Mile Trail from the valley to Glacier Point.  2-by a paid bus that you can take to Glacier Point.We arrived early(9AM)by Car and were able to find parking and the crowds were limited.The two Glacier Point Lookout are a very short walk to get to from the Parking Lot.The Panoramic View of Yosemite valley from here is amazing and great forpictures,you can see Half Dome, Upper and Lower Yosemite Falls,Vernal falls,Nevada Falls and many other points of interest.There are Free Telescope viewer faces Half Dome at observation stations for viewing sights,you can see people climbing up Half Dome.Also there is a small geological display Box help the visitors to identify what they are looking at.There is a Gift Shop that sells souvenirs and snacks,also there are restrooms as well,but no running water(absolutely disgusting!).Traveling on Glacier Point Road be sure to stop at Washburn Point before you get to Glacier Point,it is just off the road.You can get the same view of the surrounding areas, but from a slightly different angle,which is almost an equally impressive viewpoint.The views of Vernal and Nevada Falls are slightly closer from Washburn Point than from Glacier Point.If you go to Yosemite, Be Sure to stop by Glacier Point and Washburn Point .Go early to avoid the crowd and take your time to admire the view from there,and take a lots of photos, it's spectacular.\"]\n"
     ]
    }
   ],
   "source": [
    "topic = 1\n",
    "n_reviews = 5\n",
    "n_words = 10\n",
    "\n",
    "print(top_words(word_matrix, topic, n_words))\n",
    "print(top_reviews(topic_matrix, topic, n_reviews))\n",
    "topics_list.append('Glacier Point')"
   ]
  },
  {
   "cell_type": "markdown",
   "metadata": {},
   "source": [
    "#### Topic 2 - 'Yosemite Falls'\n",
    "In particular, Upper and Lower Yosemite Falls"
   ]
  },
  {
   "cell_type": "code",
   "execution_count": 207,
   "metadata": {},
   "outputs": [
    {
     "name": "stdout",
     "output_type": "stream",
     "text": [
      "fall        2.741441\n",
      "low         0.823839\n",
      "upper       0.650517\n",
      "vernal      0.324433\n",
      "base        0.280635\n",
      "yosemite    0.270254\n",
      "close       0.195180\n",
      "nevada      0.172449\n",
      "spring      0.137128\n",
      "winter      0.122964\n",
      "Name: topic_2, dtype: float64\n",
      "[\"Here is the most important thing to know about all the falls in Yosemite Park.  I have seen a number of people complaining in reviews that they were here in summer, fall, winter, whatever, and the falls were anemic. In California, it does not rain from late spring through mid-fall, and there is no water. The spectacular falls rely on spring snow melt, and so are at their best in early to mid spring.  Even in winter, when it begins to rain, rainfall alone is not enough to really get the falls going, it is when the snowpack melts that they thunder and roar.  So if it is your goal to see the falls at their best, it is essential you plan a spring trip.Yosemite Falls is one spectacular fall.  Well, actually, it is a 3fer! While it is not wide, it is reportedly the tallest waterfall in the U.S.  The upper fall plunges straight down from where Yosemite Creek pours over the edge on its way to join the Merced River.  It is the tallest and most dramatic section of the falls, foaming and frothing on its way down.  The falls then tumble through a series of cascades that are hard to see from most vantage points, before lunching themselves into the final, narrow dive of the lower falls.  At the bottom of the lower falls is an excellent area to view the lower falls fairly up close; further back along the trail leading to the bottom are great views of both upper and lower falls.  Expect to get a little damp from the spray at the bottom of the falls, especially if it's a breezy day. If the falls are in full roar, you will be able to feel the thunder in your chest.\"\n",
      " 'The lower fall is spectacular and if we had enough time we would have walked to the top to see the upper fall.'\n",
      " 'Easy trail to the bottom of the Lower Falls. From that point you can see Upper and Lower Falls together. Amazing.'\n",
      " 'Take the short trail to the base of the falls.  From here you can see just the lower falls.  Walk out on Cooks Meadow, or go to Swinging bridge and see both upper and lower falls, but from farther away'\n",
      " 'Since the Yosemite Falls are some of the longest in the world, they are a must-see.  The trail to get to the Lower part of the falls is an easy hike, but to get a view of the whole Upper and Lower Falls, you only need to go to a place near the restrooms (which, by the way, are pretty nice flushies).  So if a hike is out of the question, you can still see the falls.  We went in the spring when the falls were roaring . . . we loved it']\n"
     ]
    }
   ],
   "source": [
    "topic = 2\n",
    "n_reviews = 5\n",
    "n_words = 10\n",
    "\n",
    "print(top_words(word_matrix, topic, n_words))\n",
    "print(top_reviews(topic_matrix, topic, n_reviews))\n",
    "topics_list.append('Yosemite Falls')"
   ]
  },
  {
   "cell_type": "markdown",
   "metadata": {},
   "source": [
    "**Topic 3 - Tioga Pass**  \n",
    "In particular, driving Through Tioga Pass "
   ]
  },
  {
   "cell_type": "code",
   "execution_count": 84,
   "metadata": {},
   "outputs": [
    {
     "name": "stdout",
     "output_type": "stream",
     "text": [
      "pass        2.852290\n",
      "tioga       2.225793\n",
      "lake        1.636049\n",
      "meadow      0.690729\n",
      "mono        0.537975\n",
      "scenery     0.419287\n",
      "lee         0.373973\n",
      "east        0.362705\n",
      "tuolumne    0.341980\n",
      "tenaya      0.308641\n",
      "Name: topic_3, dtype: float64\n",
      "[\"It's my first time to Tioga Pass. It was closed in my other visits. if you love hiking around of lakes and meadow, you shall try Tioga Pass!\"\n",
      " \"The drive along Tioga Road and over Tioga Pass is is one of California's most spectacular. The scenery along the way is amazing - Tenaya Lake, Tuolumne Meadows, views of Mt. Hoffmann, Mt. Conness, Mt. Dana, and the Cathedral Range, and the view from Olmstead Point of Half Dome and Clouds Rest from a much different vantage point than from Yosemite Valley. And the drive up (or especially down) the east side of Tioga Pass to Lee Vining and Mono Lake is exhilarating...although those with a fear of heights might want to think twice about that portion of the road. There's a pullout on the east side of the pass that offers a great view down Lee Vining Canyon and far beyond to the White Mountains on a clear day. Lots of options for things to do right around Tioga Pass itself - the meadows around there are beautiful, you can hike to the top of Mt. Dana, Gaylor Peak, or Tioga Peak, drive up to Saddlebag Lake and hike the 20 Lakes Basin, fish at one of the lakes near the pass, etc. So many people don't see Yosemite from anywhere other than the Valley, and maybe Glacier Point, but there is so much more to see in the high country along the Tioga Road.\"\n",
      " 'While visiting Tuolome we stayed up at the Tioga Pass Resort right in Tioga Pass. It is an astounding drive down to Lee Vining through this pass - at the top of the pass there are many great trail heads to alpine lakes and peaks - gorgeous night skies!'\n",
      " 'Very beautiful with beautiful lakes but as soon as we saw sonoma pass we thought tioga pass is famous but we loved Sonoma pass more. tioga pass had beautiful stream and beautiful lakes, unfortunately some lakes were bounded so we cant touch water but loved it'\n",
      " 'Crossing Tioga pass provides an extrenely scenic route from Yosemite to Las Vegas (optionally through Death Valley) passing by highlights such as Olmsted point, Lake Tenaya, Tuolumne Meadows and Mono lake. The drive from Yosemite to Vegas takes about 12 hours including some stops underway.Tioga pass is at an elevation of 9945 ft and hence enough snow must have disappeared for it to open. When we visited late May 2014 (a year of early opening of the pass) there was still plenty snow visible. Information about the opening of the pass and current conditions can be found at http://www.nps.gov/yose/planyourvisit/conditions.htm']\n"
     ]
    }
   ],
   "source": [
    "topic = 3\n",
    "n_reviews = 5\n",
    "n_words = 10\n",
    "\n",
    "print(top_words(word_matrix, topic, n_words))\n",
    "print(top_reviews(topic_matrix, topic, n_reviews))\n",
    "topics_list.append('Tioga Pass')"
   ]
  },
  {
   "cell_type": "markdown",
   "metadata": {},
   "source": [
    "**Topic 4 - Hiking**  "
   ]
  },
  {
   "cell_type": "code",
   "execution_count": 88,
   "metadata": {},
   "outputs": [
    {
     "name": "stdout",
     "output_type": "stream",
     "text": [
      "hike         4.292965\n",
      "strenuous    0.490808\n",
      "mile         0.454876\n",
      "short        0.313068\n",
      "hour         0.208753\n",
      "steep        0.193454\n",
      "moderate     0.180102\n",
      "recommend    0.172853\n",
      "tough        0.166330\n",
      "shape        0.164297\n",
      "Name: topic_4, dtype: float64\n",
      "['We hiked to vernal falls and it is a moderate hike.  The trail is well kept and easy to hike on.  It is a beautiful and very peaceful hike.  We went early in the morning and the fog was over the valley which was very serene.'\n",
      " 'It is a strenuous hike but you will be rewarded. Please motivate yourself to do this hike. It will not take more than an hour even if you stop and go. Kids can do this also and I have seen many elderly people doing the hike. Incredible!'\n",
      " \"we didn't hike to the top of the falls just the Yosemite valley easy hike to the base and it was a easy and great hike.\"\n",
      " 'It was quite strenuous hike but once you are up there you can feel achievement. The view along the hike is so beautiful.'\n",
      " 'Vernal falls is one of two falls (Nevada falls is the other) that you can hike on the mist trail at Yosemite National Park. It is a steep uphill hike that is divided into two parts. The first part of the hike is simply a paved steep uphill hike that takes you to a footbridge. You are able to view Vernal falls from this footbridge. Many novice hikers choose to hike to this spot & then back down. If you are up for a challenge, the second part of the hike includes over 200 steep & wet steps to the top of Vernal falls. The view from the top makes the steep 1.6 mile hike worth it! My husband and I saw people of all ages challenging themselves during this hike! It was probably one of my favorite hikes at Yosemite National Park!'\n",
      " 'Best beautiful hike in valley, short but strenous hike to bridge, worth it.'\n",
      " 'We have never been to Yosemite and researched a lot of hikes.  This was one that was only 8.5 miles round trip.  It was a strenuous hike going up to Nevada Falls.We came down the John Muir Trail because of it being less strenuous.  I would do this hike again but probably go down the way I came up only because it would be more challenging.I recommend this hike!'\n",
      " 'Easy hike with kids and there were restrooms on the hike.'\n",
      " 'We hiked up to Vernal and Nevada Falls.  One of the best hikes we have ever done. Strenuous and crowded but well worth it.  The highlight of Yosemite. Bring water and snacks for this hike.'\n",
      " 'We hiked from the Valley floor to the top of the Upper Falls. It was quite a hike and took a lot out of us but we thoroughly enjoyed it and are glad we did it! It literally is to the top of the falls (you hike up the left side of it) and the views are amazing up there. You will see lots of people in passing while hiking to the top so take some time to chat if you are up to it. Very solid hike - would highly recommend it if you are able.']\n"
     ]
    }
   ],
   "source": [
    "topic = 4\n",
    "n_reviews = 10\n",
    "n_words = 10\n",
    "\n",
    "print(top_words(word_matrix, topic, n_words))\n",
    "print(top_reviews(topic_matrix, topic, n_reviews))\n",
    "topics_list.append('Hiking')"
   ]
  },
  {
   "cell_type": "markdown",
   "metadata": {},
   "source": [
    "**Topic 5 - El Capitan**  \n",
    "In particular, beauty of El Capitan"
   ]
  },
  {
   "cell_type": "code",
   "execution_count": 90,
   "metadata": {},
   "outputs": [
    {
     "name": "stdout",
     "output_type": "stream",
     "text": [
      "el           4.528230\n",
      "capitan      4.268026\n",
      "climber      1.338473\n",
      "binocular    0.415990\n",
      "spot         0.403950\n",
      "tunnel       0.400033\n",
      "cap          0.394506\n",
      "picture      0.362747\n",
      "face         0.358512\n",
      "meadow       0.304601\n",
      "Name: topic_5, dtype: float64\n",
      "['Seeing El Capitan was breathtaking. I had always seen pictures of El Capitan but seeing it is person was thrilling. It is so massive that it is really hard to process. We were there two days and I was truly captivated by El Capitan.'\n",
      " 'Meadows around El Capitan make for a relaxing view of the majestic El Capitan. One of the beauties of Yosemite.'\n",
      " 'One of our last stops in the valley, we took the El Capitan shuttle out to the El Capitan Picnic area and walked out to the next stop at the El Capitan crossover.  Relatively flat walk, no real trail, we just walked along side the road (moderate traffic) till we got to the Valley Loop Trail, which took us past Cathedral Beach and to the crossover.  Crossover was the best place to view El Capitan, fewer trees.  At the crossover (near the shuttle stop), there were members of a climbing club with telescopes, which allowed us to see climbers on El Capitan.  They were very knowledgeable and happily answered many questions.'\n",
      " \"El Capitan is a granite monolith that juts upward 3,000 feet above the Yosemite Valley floor. It is a beautiful land formation with a surface smooth, the result of glacier activity nearly 1.3 million years ago. You won't be able to help but see El Capitan throughout your time in the Valley. It is first encountered as you drive through the Yosemite Tunnel and stop at the tunnel viewpoint. El Capitan dominates the landscape to the left, just opposite the Bridalveil Falls to the right of your view at this location. While driving in the valley, you can pull over from Northside Drive at the El Capitan Meadow and with binoculars, you can spot rock climbers scaling El Capitan. Simply look in the crevices and you'll seem them, tiny specks of colour upon the rock face. The sun shines nicely against El Capitan from late morning onward, allowing nice photographs to be taken during much of the day. When skies are clear and blue, it is a wonderful land formation to see as part of your Yosemite National Park experience.\"\n",
      " \"There is a beach at the base of El Capitan, called Devil's Elbow. It's the perfect place to get an up close view of the grandeur and size of El Capitan. Bring binoculars as you may have the pleasure of seeing climbers on the face.\"]\n"
     ]
    }
   ],
   "source": [
    "topic = 5\n",
    "n_reviews = 5\n",
    "n_words = 10\n",
    "\n",
    "print(top_words(word_matrix, topic, n_words))\n",
    "print(top_reviews(topic_matrix, topic, n_reviews))\n",
    "topics_list.append('El Capitan')"
   ]
  },
  {
   "cell_type": "markdown",
   "metadata": {},
   "source": [
    "**Topic 6 - Walking To Lower Fall**  \n",
    "In particular, "
   ]
  },
  {
   "cell_type": "code",
   "execution_count": 93,
   "metadata": {},
   "outputs": [
    {
     "name": "stdout",
     "output_type": "stream",
     "text": [
      "walk      5.419918\n",
      "short     0.793609\n",
      "minute    0.225155\n",
      "path      0.224473\n",
      "hard      0.213550\n",
      "base      0.187959\n",
      "lodge     0.170765\n",
      "lovely    0.167322\n",
      "mile      0.157958\n",
      "uphill    0.143188\n",
      "Name: topic_6, dtype: float64\n",
      "['Once again; in summer: GET THERE EARLY! That means that if you want an experience that you would describe as \"nice\" you will have to be walking at about 07:30. If you get up to Vernall Falls and walk back along the John Muit trail be carefull not to miss the this trail. When you are on top of the Vernall falls you walk further up but when you come across a bridge you have gone to far. We forgot to take a map so walked up further. Eventually we ended up walking all the way to the top of Nevada falls! Ended up walking for 6,5 hours, almost 14km, 600m up and 600m downhill.'\n",
      " 'It is a great short and easy walk to see the lower fall.  Lots of people, but the walk is beautiful and serence.'\n",
      " 'We did do this walk, the start is easy to do. Because of that we did walk in a caravan of people. The second loop is more hard to walk and that is where it gets interesting and beautiful. '\n",
      " 'We walked to the lower falls from the Lodge.  What a sight!  Getting close is well worth the walk.  '\n",
      " 'This walk is hard work but rewards you constantly, make a point of doing this walk!!!']\n"
     ]
    }
   ],
   "source": [
    "topic = 6\n",
    "n_reviews = 5\n",
    "n_words = 10\n",
    "\n",
    "print(top_words(word_matrix, topic, n_words))\n",
    "print(top_reviews(topic_matrix, topic, n_reviews))\n",
    "topics_list.append('Walking To Lower Fall')"
   ]
  },
  {
   "cell_type": "markdown",
   "metadata": {},
   "source": [
    "**Topic 7 - Amazing View**  \n",
    "In particular, at the top of the falls & getting there"
   ]
  },
  {
   "cell_type": "code",
   "execution_count": 98,
   "metadata": {},
   "outputs": [
    {
     "name": "stdout",
     "output_type": "stream",
     "text": [
      "worth         4.509240\n",
      "effort        0.855170\n",
      "definitely    0.733977\n",
      "bit           0.669340\n",
      "trip          0.567620\n",
      "totally       0.362342\n",
      "little        0.223373\n",
      "absolutely    0.186453\n",
      "tough         0.134280\n",
      "trek          0.124622\n",
      "Name: topic_7, dtype: float64\n",
      "[\"Worth the hike up to see the falls - it is a bit of a climb but if you take it slow it is worth the trip. Very popular area so can be crowded but that shouldn't stop you\"\n",
      " 'Worth the trip up there, views are amazing! Drive up there a little scary, but worth the trip. Can see the valley below, great view.'\n",
      " \"The Falls is beautiful and definitely worth the easy hike.  It does get crowded as it's not a huge area to view it but definitely worth it.  It's awesome!\"\n",
      " 'Best view of the entire valley and worth the drive to the top. We had two teens and one preteen all boys and they thought it was worth it.'\n",
      " \"Don't give up even when the trail seems never-ending. The view at the top of the falls is SOOOOOOOOOO worth it. \"]\n"
     ]
    }
   ],
   "source": [
    "topic = 7\n",
    "n_reviews = 5\n",
    "n_words = 10\n",
    "\n",
    "print(top_words(word_matrix, topic, n_words))\n",
    "print(top_reviews(topic_matrix, topic, n_reviews))\n",
    "topics_list.append('Amazing Views')"
   ]
  },
  {
   "cell_type": "markdown",
   "metadata": {},
   "source": [
    "**Topic 8 - Seasons for Falls**  \n",
    "In particular, "
   ]
  },
  {
   "cell_type": "code",
   "execution_count": 100,
   "metadata": {},
   "outputs": [
    {
     "name": "stdout",
     "output_type": "stream",
     "text": [
      "fall      6.459617\n",
      "base      0.464369\n",
      "dry       0.316726\n",
      "spring    0.291243\n",
      "spray     0.233936\n",
      "summer    0.218177\n",
      "bridge    0.177436\n",
      "near      0.172987\n",
      "run       0.164288\n",
      "right     0.154591\n",
      "Name: topic_8, dtype: float64\n",
      "[\"Here is the most important thing to know about all the falls in Yosemite Park.  I have seen a number of people complaining in reviews that they were here in summer, fall, winter, whatever, and the falls were anemic. In California, it does not rain from late spring through mid-fall, and there is no water. The spectacular falls rely on spring snow melt, and so are at their best in early to mid spring.  Even in winter, when it begins to rain, rainfall alone is not enough to really get the falls going, it is when the snowpack melts that they thunder and roar.  So if it is your goal to see the falls at their best, it is essential you plan a spring trip.Yosemite Falls is one spectacular fall.  Well, actually, it is a 3fer! While it is not wide, it is reportedly the tallest waterfall in the U.S.  The upper fall plunges straight down from where Yosemite Creek pours over the edge on its way to join the Merced River.  It is the tallest and most dramatic section of the falls, foaming and frothing on its way down.  The falls then tumble through a series of cascades that are hard to see from most vantage points, before lunching themselves into the final, narrow dive of the lower falls.  At the bottom of the lower falls is an excellent area to view the lower falls fairly up close; further back along the trail leading to the bottom are great views of both upper and lower falls.  Expect to get a little damp from the spray at the bottom of the falls, especially if it's a breezy day. If the falls are in full roar, you will be able to feel the thunder in your chest.\"\n",
      " 'It is best to see these falls from Glacier Point.  They can be viewed from Yosemite Valley but I could only see on fall.'\n",
      " \"Often by August the falls are dry so see the falls earlier in the tear if possible>  If you're in the valley it's hard not to see the falls\"\n",
      " \"Again, you can see Yosemite Falls all over the Valley. Your eye is drawn to them all the time - I'd compare the falls with Trummelbach Falls in the Wengen/Lauterbrunnen valley in Switzerland.\"\n",
      " 'This is also a must do trail to get closer to the falls and see more of the Valley. The view of the falls is worth the trip.']\n"
     ]
    }
   ],
   "source": [
    "topic = 8\n",
    "n_reviews = 5\n",
    "n_words = 10\n",
    "\n",
    "print(top_words(word_matrix, topic, n_words))\n",
    "print(top_reviews(topic_matrix, topic, n_reviews))\n",
    "topics_list.append('Falls Viewing Season')"
   ]
  },
  {
   "cell_type": "markdown",
   "metadata": {},
   "source": [
    "**Topic 9 - Rock Climbing**  \n",
    "In particular, "
   ]
  },
  {
   "cell_type": "code",
   "execution_count": 102,
   "metadata": {},
   "outputs": [
    {
     "name": "stdout",
     "output_type": "stream",
     "text": [
      "rock          3.855680\n",
      "climber       1.668572\n",
      "face          1.046238\n",
      "watch         0.829892\n",
      "formation     0.472010\n",
      "impressive    0.408355\n",
      "binocular     0.359285\n",
      "scale         0.353838\n",
      "granite       0.350937\n",
      "huge          0.304945\n",
      "Name: topic_9, dtype: float64\n",
      "['a MUST for a rock climber... but even if you are NOT - go check out the climbers , this is NUTS! one of the iconic rocks in the valley - how could you miss it if you are here anyway? '\n",
      " 'We only experienced the great might of this 900m high rock face from the bottom, and it was impressive enough, let alone from its top. Ideal for rock climbers and base jumpers, but it is extremely tough to get to the top.'\n",
      " 'As part of my day tour from SFO,  the tour operator stopped here. The rock formation is gigantic. I believe a lot of rock climbers come and camp here. I walked close to the rock and came back. Saw a herd of deer grazing there. I am not sure how one could climb this. the tour operator told us that the first climb took some 45 days. (not sure how one would eat, sleep and pee while climbing for 45 days). the record is 2.5 hours it seems. I am not sure if there are trails to go to the top of the rock. Must be fascinating for rock climbers.'\n",
      " 'Standing under the El Capitan watching the rock climbers takes your breath away at the sheer scale of this rock. '\n",
      " 'This cliff face is a mecca for expert rock limbers. Not for me but it is a spectacular rock face and awe inspiring sight']\n"
     ]
    }
   ],
   "source": [
    "topic = 9\n",
    "n_reviews = 5\n",
    "n_words = 10\n",
    "\n",
    "print(top_words(word_matrix, topic, n_words))\n",
    "print(top_reviews(topic_matrix, topic, n_reviews))\n",
    "topics_list.append('Rock Climbing')"
   ]
  },
  {
   "cell_type": "markdown",
   "metadata": {},
   "source": [
    "**Topic 10 - Great Views for Falls**  \n",
    "In particular, "
   ]
  },
  {
   "cell_type": "code",
   "execution_count": 105,
   "metadata": {},
   "outputs": [
    {
     "name": "stdout",
     "output_type": "stream",
     "text": [
      "great          4.295647\n",
      "photo          0.478787\n",
      "opportunity    0.295339\n",
      "fun            0.180673\n",
      "hiking         0.131721\n",
      "experience     0.131627\n",
      "crowded        0.099593\n",
      "view           0.099456\n",
      "spot           0.094888\n",
      "picture        0.085015\n",
      "Name: topic_10, dtype: float64\n",
      "['so many great views from one of the most beautiful place in the park, you can take a great tour bus up to the point for a great day of exploring or a great day hike. small store  and great views.'\n",
      " 'It is a great hike to get to the top, steep in places. Great view at the top! Yosemite is just beautiful and it felt great to be at the top!'\n",
      " 'Great for hiking - great views of the falls - there are 2 trails - lower and upper - upper one is much longer and stepper - great views as you hike up as well as down.'\n",
      " 'It was great to see this fall, the view was great, it amazing how the water fall comes all the way from the top of mountain.'\n",
      " 'Last time here we did the Panama trail which was great but this time we just looked at the viewpoints and this was great.']\n"
     ]
    }
   ],
   "source": [
    "topic = 10\n",
    "n_reviews = 5\n",
    "n_words = 10\n",
    "\n",
    "print(top_words(word_matrix, topic, n_words))\n",
    "print(top_reviews(topic_matrix, topic, n_reviews))\n",
    "topics_list.append('Great Views for Falls')"
   ]
  },
  {
   "cell_type": "markdown",
   "metadata": {},
   "source": [
    "**Topic 11 - Avoiding Crowds**  \n",
    "In particular, going early to avoid crowds"
   ]
  },
  {
   "cell_type": "code",
   "execution_count": 108,
   "metadata": {},
   "outputs": [
    {
     "name": "stdout",
     "output_type": "stream",
     "text": [
      "early        2.584439\n",
      "crowd        2.397241\n",
      "morning      0.961203\n",
      "avoid        0.888423\n",
      "start        0.508107\n",
      "summer       0.452922\n",
      "busy         0.396791\n",
      "late         0.389514\n",
      "afternoon    0.312674\n",
      "arrive       0.229653\n",
      "Name: topic_11, dtype: float64\n",
      "['Crowds below; crowds on the Mist Trail to the top, and busy at the top as well.  But worth it!  Go early!'\n",
      " 'Visit in early morning or late afternoon to avoid the crowds'\n",
      " 'We stop 1st here by car, was not to crowd early in the morning and you have a wonderful view of the full valley'\n",
      " 'Drove up real early on my birthday. What a glorious way to begin my day. Going early is a must before the summer crowds arrive.'\n",
      " 'Well maintained path with steep inclines.  To avoid the crowds start the hike early.  If you you are not there early it is recommended to take the shuttle to avoid parking problems.']\n"
     ]
    }
   ],
   "source": [
    "topic = 11\n",
    "n_reviews = 5\n",
    "n_words = 10\n",
    "\n",
    "print(top_words(word_matrix, topic, n_words))\n",
    "print(top_reviews(topic_matrix, topic, n_reviews))\n",
    "topics_list.append('Avoiding Crowds')"
   ]
  },
  {
   "cell_type": "markdown",
   "metadata": {},
   "source": [
    "**Topic 12 - Park Views at Glacier Point**  \n",
    "In particular, "
   ]
  },
  {
   "cell_type": "code",
   "execution_count": 110,
   "metadata": {},
   "outputs": [
    {
     "name": "stdout",
     "output_type": "stream",
     "text": [
      "park        3.121951\n",
      "national    1.443777\n",
      "yosemite    0.596151\n",
      "car         0.309724\n",
      "enter       0.183118\n",
      "entrance    0.125020\n",
      "leave       0.094775\n",
      "service     0.093389\n",
      "visitor     0.086358\n",
      "stay        0.082068\n",
      "Name: topic_12, dtype: float64\n",
      "['This is a very beautiful point in the Yosemite National Park. There is so much to see in there. We really enjoyed everything about Yosemite National Park.'\n",
      " 'Yosemite National Park is probably the best walking and hiking park in the 48 states.  We were their Sept. 10th through the 12th,  There were probably a hundred thousand or more in the park, but the park is so massive that it did not seem crowed. Their are extreme trails and moderate trails. This is a must see park. Not a park that you ride around in like Yellowstone but, worth the trip.'\n",
      " 'You absolutely must go to Yosemite National Park, and Glacier Pint is a must-see! The rock formation is just another example of the stunning beauty within the national park!!'\n",
      " 'Magnificent views over Yosemite national park. A 35 mile drive from the entrance to the park but what a view. A must when visiting.'\n",
      " 'So if you can only choose one National Park to visit, make it Yosemite National Park! We went to Glacier Point first, and had an amazing view. Then we drove into the valley and parked.  We took the shuttles around and so enjoyed our visit looking back UP at Glacier Paint! So worth the trip!']\n"
     ]
    }
   ],
   "source": [
    "topic = 12\n",
    "n_reviews = 5\n",
    "n_words = 10\n",
    "\n",
    "print(top_words(word_matrix, topic, n_words))\n",
    "print(top_reviews(topic_matrix, topic, n_reviews))\n",
    "topics_list.append('Park Views')"
   ]
  },
  {
   "cell_type": "markdown",
   "metadata": {},
   "source": [
    "**Topic 13 - Glacier Point & Half Dome**  \n",
    "In particular, "
   ]
  },
  {
   "cell_type": "code",
   "execution_count": 113,
   "metadata": {},
   "outputs": [
    {
     "name": "stdout",
     "output_type": "stream",
     "text": [
      "dome          3.519145\n",
      "half          3.203864\n",
      "sentinel      0.506813\n",
      "sunset        0.498547\n",
      "village       0.143268\n",
      "mile          0.126365\n",
      "include       0.124681\n",
      "sun           0.120580\n",
      "especially    0.119849\n",
      "arrive        0.104188\n",
      "Name: topic_13, dtype: float64\n",
      "['This trail is a bit off the path of the half dome hike and worth doing because it mixes up the scenery of the half dome hike. '\n",
      " 'Glacier Point give you a small taste of what you see from the top of Half Dome. There are also a few hiking trails that go to Half Dome or to the valley floor.'\n",
      " 'After climbing the Half Dome we took a rest day to go to glacier point. It has a different view of the half dome. It is very popular and you can drive to it. '\n",
      " 'The best view of the valley and Half dome. No one should miss this view, must visit. I have seen the half dome from this point multiple times. This is spectacular.'\n",
      " 'Went to Glacier Point vista point to look over the Yosemite Valley below. You can see Half Dome, El Capitan, and all the snow peaked domes in the area. You can even see all the hikers on the trail to Half Dome.']\n"
     ]
    }
   ],
   "source": [
    "topic = 13\n",
    "n_reviews = 5\n",
    "n_words = 10\n",
    "\n",
    "print(top_words(word_matrix, topic, n_words))\n",
    "print(top_reviews(topic_matrix, topic, n_reviews))\n",
    "topics_list.append('Glacier Point & Half Dome')"
   ]
  },
  {
   "cell_type": "markdown",
   "metadata": {},
   "source": [
    "**Topic 14 - Beautiful Falls**  \n",
    "In particular, "
   ]
  },
  {
   "cell_type": "code",
   "execution_count": 115,
   "metadata": {},
   "outputs": [
    {
     "name": "stdout",
     "output_type": "stream",
     "text": [
      "beautiful     4.841553\n",
      "scenery       0.385571\n",
      "quite         0.231738\n",
      "yosemite      0.141283\n",
      "say           0.134240\n",
      "sunset        0.132398\n",
      "absolutely    0.130714\n",
      "crowded       0.098738\n",
      "stair         0.089163\n",
      "nature        0.080211\n",
      "Name: topic_14, dtype: float64\n",
      "['Perhaps the most beautiful, although a bit stressful drive ever.  The further you go the more beautiful it gets.  '\n",
      " \"Such a beautiful mountain! It's mass almost can't be described by words. It is a beautiful thing to see!! \"\n",
      " 'Beautiful falls, there are many falls in Yosemite National Park.  They all are beautiful against the backdrop of the surrounding scenery.'\n",
      " 'All the falls were beautiful since we were there in the spring.'\n",
      " 'These waterfalls are so beautiful they do not look real.  It is a beautiful postcard that is actually real.  One of the most beautiful scenes of the Yosemite National Park.']\n"
     ]
    }
   ],
   "source": [
    "topic = 14\n",
    "n_reviews = 5\n",
    "n_words = 10\n",
    "\n",
    "print(top_words(word_matrix, topic, n_words))\n",
    "print(top_reviews(topic_matrix, topic, n_reviews))\n",
    "topics_list.append('Beautiful Falls')"
   ]
  },
  {
   "cell_type": "markdown",
   "metadata": {},
   "source": [
    "**Topic 15 - Yosemite Valley**  \n",
    "In particular, views of YV from Glaicer Point"
   ]
  },
  {
   "cell_type": "code",
   "execution_count": 117,
   "metadata": {},
   "outputs": [
    {
     "name": "stdout",
     "output_type": "stream",
     "text": [
      "valley         4.560932\n",
      "yosemite       2.360615\n",
      "floor          1.118505\n",
      "different      0.307364\n",
      "entire         0.278964\n",
      "mile           0.223804\n",
      "hour           0.196074\n",
      "lodge          0.174310\n",
      "perspective    0.162521\n",
      "sight          0.147274\n",
      "Name: topic_15, dtype: float64\n",
      "['A must side trip when visiting Yosemite Valley.  The drive takes time, but it is one of the best views of the valley. '\n",
      " 'We busted here to get a view of the entire Yosemite valley. Views are utterly amazing, especially the drop down to the valley. '\n",
      " 'The views here are utterly amazing. We like to stop here on the way into the valley, since it takes about an hour to get to the valley from here. It is about 4000 feet above the valley floor, with commanding views of Half Dome, Yosemite Falls, the valley floor, Vernal Falls, and Nevada Falls. You may also start several hikes here, including the aptly named 4-milte trail and 8-mile trail to the valley floor.It is so inspiring, I nearly proposed to my wife here. Didn\\'t have the ring with me, however. It makes a good story, and is almost like something Captain Jack Sparrow would say. I tell the kids, \"This is the spot I ALMOST proposed to your mother\".If you want to hike down and you don\\'t have someone to drive you here, you can book a tour that takes you up to Glacier Point at the Yosemite Lodge.'\n",
      " 'A must place when visiting to get good view of Yosemite Valley, and picture of Half Dome. Some drive from Yosemite Valley, but you can also take a bus. '\n",
      " \"From Glacier Point the entire Yosemite Valley can be seen.  It's reachable by vehicle or by shuttle from the Valley floor.  The view is outstanding!\"]\n"
     ]
    }
   ],
   "source": [
    "topic = 15\n",
    "n_reviews = 5\n",
    "n_words = 10\n",
    "\n",
    "print(top_words(word_matrix, topic, n_words))\n",
    "print(top_reviews(topic_matrix, topic, n_reviews))\n",
    "topics_list.append('Yosemite Valley')"
   ]
  },
  {
   "cell_type": "markdown",
   "metadata": {},
   "source": [
    "**Topic 3 -   d**  \n",
    "In particular, "
   ]
  },
  {
   "cell_type": "code",
   "execution_count": 118,
   "metadata": {},
   "outputs": [
    {
     "name": "stdout",
     "output_type": "stream",
     "text": [
      "amazing       3.970289\n",
      "experience    0.356236\n",
      "nature        0.163672\n",
      "view          0.123779\n",
      "scenery       0.120757\n",
      "site          0.115519\n",
      "awe           0.106738\n",
      "simply        0.103922\n",
      "glad          0.095835\n",
      "stand         0.090288\n",
      "Name: topic_16, dtype: float64\n",
      "['Definately must do!Amazing, marvelous view, just to escape from the city jungle and enjoy with all your sences!!'\n",
      " 'defi have a stop at glacier point - the views are just amazing from there. It does get crowded but you will find space for that amazing picture and views. '\n",
      " 'This is a medium difficulty trail to the top of the waterfall. The view is amazing from the top and the source of waterfall is just an amazing site.'\n",
      " 'It is amazing to think about how people climb this massive rock face! There are amazing views of this from many places around the park!'\n",
      " 'The views and scenery are amazing, do it, you will love it!']\n"
     ]
    }
   ],
   "source": [
    "topic = 16\n",
    "n_reviews = 5\n",
    "n_words = 10\n",
    "\n",
    "print(top_words(word_matrix, topic, n_words))\n",
    "print(top_reviews(topic_matrix, topic, n_reviews))\n",
    "# topics_list.append('Yosemite Falls')"
   ]
  },
  {
   "cell_type": "markdown",
   "metadata": {},
   "source": [
    "**Topic 3 -   d**  \n",
    "In particular, "
   ]
  },
  {
   "cell_type": "code",
   "execution_count": 119,
   "metadata": {},
   "outputs": [
    {
     "name": "stdout",
     "output_type": "stream",
     "text": [
      "water     3.600122\n",
      "flow      0.781722\n",
      "bring     0.698549\n",
      "plenty    0.342464\n",
      "spring    0.275069\n",
      "dry       0.265402\n",
      "summer    0.257024\n",
      "snack     0.242907\n",
      "bottle    0.226840\n",
      "hot       0.193693\n",
      "Name: topic_17, dtype: float64\n",
      "['A waterfall with almost no water is always a bit disappointing.  nonetheless, without water one sees the marvelous sculpturing of the boulders beneath and treasures the water flow that is, while missing that which is not.'\n",
      " 'It was definitely worth the walk to see the base of the falls even tho there was no water. You could see the outline of where the water would have been and just imagine what it would have been like with water flowing although it was sad to see the empty stream bed.'\n",
      " 'This water was ragging down the apron into the pool. I had been there in Sept. and walked across the apron. Very dangerous. Slipping hazard and cold water. Imagine being so close to the top of a water fall. Hope they never move the fence. Stay out of the water. '\n",
      " 'Water was at a trickle but a great hike nonetheless.  Want to revisit in the spring when more water is flowing.  '\n",
      " 'There is little water flowing and it was still a fabulous hike.  There is a lot of elevation over the 2 miles, and near the falls there are stone steps to walk up to the falls.  It is well worth the trip.  Bring water.  There is water and bathrooms along the trail.  In the late afternoon there are often beautiful rainbows across the water.  ']\n"
     ]
    }
   ],
   "source": [
    "topic = 17\n",
    "n_reviews = 5\n",
    "n_words = 10\n",
    "\n",
    "print(top_words(word_matrix, topic, n_words))\n",
    "print(top_reviews(topic_matrix, topic, n_reviews))\n",
    "# topics_list.append('Yosemite Falls')"
   ]
  },
  {
   "cell_type": "markdown",
   "metadata": {},
   "source": [
    "**Topic 3 -   d**  \n",
    "In particular, "
   ]
  },
  {
   "cell_type": "code",
   "execution_count": 120,
   "metadata": {},
   "outputs": [
    {
     "name": "stdout",
     "output_type": "stream",
     "text": [
      "place        4.750276\n",
      "wonderful    0.349009\n",
      "picture      0.284412\n",
      "sunset       0.196402\n",
      "love         0.172189\n",
      "stunning     0.153094\n",
      "truly        0.143140\n",
      "life         0.141824\n",
      "word         0.129325\n",
      "list         0.128667\n",
      "Name: topic_18, dtype: float64\n",
      "['Need car to ger there, but is a amazing place. The road is beatiful, the place has a  impressive view. '\n",
      " 'If you can only check out one place in Yosemite, this is the place. Great views of the valley and surrounding area.'\n",
      " 'I was here in May 2014 and this place is on my short list of places that I really wanted to visit.  It was well worth the trip'\n",
      " \"Really great place to visitIt's wonderful place to see a national park Visited in summer with family elders\"\n",
      " 'This place symbolizes the grandness of nature. Breathtaking views which are unique to Yosemite National Park. Visit the place early as the place has a very limited parking. You might have to wait for hours to get the shuttle to this point.']\n"
     ]
    }
   ],
   "source": [
    "topic = 18\n",
    "n_reviews = 5\n",
    "n_words = 10\n",
    "\n",
    "print(top_words(word_matrix, topic, n_words))\n",
    "print(top_reviews(topic_matrix, topic, n_reviews))\n",
    "# topics_list.append('Yosemite Falls')"
   ]
  },
  {
   "cell_type": "markdown",
   "metadata": {},
   "source": [
    "**Topic 3 -   d**  \n",
    "In particular, "
   ]
  },
  {
   "cell_type": "code",
   "execution_count": 121,
   "metadata": {},
   "outputs": [
    {
     "name": "stdout",
     "output_type": "stream",
     "text": [
      "time          5.213040\n",
      "spend         0.494372\n",
      "wish          0.205573\n",
      "need          0.170479\n",
      "able          0.159155\n",
      "stay          0.159064\n",
      "experience    0.158379\n",
      "want          0.147067\n",
      "life          0.144978\n",
      "plenty        0.130109\n",
      "Name: topic_19, dtype: float64\n",
      "['Try going in the winter time. The view is spectacular any time of year. There are few visitors, so you spend less time navigating and more time sight seeing.'\n",
      " \"The best time to go would be around May because after that the Falls will run weaker. You can see it from the Valley and it's like your greetings card from Yosemite! Spend some time and go for a hike!\"\n",
      " 'Every time I visit Glacier Point, it is like I am visiting it for the first time. The views are breathtaking. There is so much to take in from every angle. The drive up can be a little nerve wracking so make sure you take your time and enjoy.'\n",
      " \"I've been to this part of the Yosemite NP several times but each time I still find it interesting. It's always busy with heap of tourists. The view is incredible. The parking lot can be a headache if you come in the wrong time. But there are plenty of parking spaces. Wind gust can be annoying at times.\"\n",
      " \"Beautiful...you can't go to Yosemite and not spend some time here!\"]\n"
     ]
    }
   ],
   "source": [
    "topic = 19\n",
    "n_reviews = 5\n",
    "n_words = 10\n",
    "\n",
    "print(top_words(word_matrix, topic, n_words))\n",
    "print(top_reviews(topic_matrix, topic, n_reviews))\n",
    "# topics_list.append('Yosemite Falls')"
   ]
  },
  {
   "cell_type": "markdown",
   "metadata": {},
   "source": [
    "**Topic 3 -   d**  \n",
    "In particular, "
   ]
  },
  {
   "cell_type": "code",
   "execution_count": 122,
   "metadata": {},
   "outputs": [
    {
     "name": "stdout",
     "output_type": "stream",
     "text": [
      "vernal        3.823835\n",
      "nevada        2.738232\n",
      "muir          0.854241\n",
      "john          0.790360\n",
      "fall          0.608544\n",
      "continue      0.511172\n",
      "mist          0.395145\n",
      "past          0.319611\n",
      "footbridge    0.318717\n",
      "happy         0.259316\n",
      "Name: topic_20, dtype: float64\n",
      "['Vernal Fall is the closer of two with Nevada being further.  If you are looking for adventure and are in good shape, then do the Nevada Falls hike.  We took the John Muir trail to Nevada and it was beautiful!!  Then on our way back, we hit the Vernal Fall trail and immediately were immersed in wall to wall people.  Yikes, the Nevada and John Muir trails were almost empty compared to the cattle herding on Vernal.  But, it is a good hike for the elderly and people with small children.  Go early...as in before 9am.'\n",
      " 'The proximity to half dome, and the view of Nevada and Vernal Falls below, make this a must see at Yosemite. '\n",
      " 'To hike to the top of vernal falls is wet and worth every step.  If you are up to it go all the up to Nevada Falls first and work your way down to Vernal Falls'\n",
      " 'Vernal falls is the first water fall you will see on the Happy Isles trail.  Just a twenty minute uphill walk will take you to the bridge to see Vernal Falls.  Continue up the Mist trail to the tops Vernal Falls.  Lots of steps and you may get wet.  Continue on to Nevada falls...another hour from the top of Vernal.  Then on to Half Dome it you made a reservation.  Take the John Muir Trail back down for more great views of the water falls, Clouds Rest, and even Yosemite falls.  I recommend to take a sack lunch and have it at Nevada falls.  Enjoy!'\n",
      " \"The Mist trail from Happy Isles up to Vernal Falls is probably the best trail I've hiked. It was so much fun! The section up the steps with Vernal Falls in front of you is amazing. Be warned though that the trail is steep and you will get wet - make sure to bring a rain coat and pants or a poncho. I hiked it in May after record snowfall so it was flowing high/wide. Such cool views of the falls and the climb was fun, saw a few rainbows too. We then continued up to Nevada Falls, which has spectacular views of the valley. The hike from Vernal to Nevada is pretty brutal and you're up toward altitude - top of Nevada is roughly 6000' elevation but the views at the top are worth it. Can't recommend this hike more.Whether you go to Vernal or Nevada, take the John Muir trail down so as not to be going against traffic on the wet misty steps.\"]\n"
     ]
    }
   ],
   "source": [
    "topic = 20\n",
    "n_reviews = 5\n",
    "n_words = 10\n",
    "\n",
    "print(top_words(word_matrix, topic, n_words))\n",
    "print(top_reviews(topic_matrix, topic, n_reviews))\n",
    "# topics_list.append('Yosemite Falls')"
   ]
  }
 ],
 "metadata": {
  "kernelspec": {
   "display_name": "Python 3",
   "language": "python",
   "name": "python3"
  },
  "language_info": {
   "codemirror_mode": {
    "name": "ipython",
    "version": 3
   },
   "file_extension": ".py",
   "mimetype": "text/x-python",
   "name": "python",
   "nbconvert_exporter": "python",
   "pygments_lexer": "ipython3",
   "version": "3.8.5-final"
  }
 },
 "nbformat": 4,
 "nbformat_minor": 4
}